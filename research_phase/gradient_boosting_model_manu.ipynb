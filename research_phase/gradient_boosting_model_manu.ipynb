{
 "cells": [
  {
   "cell_type": "code",
   "execution_count": 3,
   "metadata": {},
   "outputs": [],
   "source": [
    "from math import sqrt\n",
    "import pandas as pd\n",
    "import numpy as np\n",
    "import matplotlib.pyplot as plt\n",
    "\n",
    "# for the ML pipeline\n",
    "from sklearn.model_selection import train_test_split\n",
    "from sklearn.impute  import SimpleImputer\n",
    "from sklearn.preprocessing import OrdinalEncoder\n",
    "from sklearn.ensemble import GradientBoostingRegressor\n",
    "from sklearn.feature_selection import SelectFromModel\n",
    "from sklearn.metrics import mean_squared_error, r2_score\n",
    "\n",
    "# from sklearn.pipeline import Pipeline\n",
    "# from sklearn.compose import ColumnTransformer\n",
    "\n",
    "from feature_engine.categorical_encoders import RareLabelCategoricalEncoder\n",
    "\n",
    "# to visualise al the columns in the dataframe\n",
    "pd.pandas.set_option('display.max_columns', None)\n"
   ]
  },
  {
   "cell_type": "code",
   "execution_count": null,
   "outputs": [],
   "source": [
    "# install data"
   ],
   "metadata": {
    "collapsed": false
   }
  },
  {
   "cell_type": "code",
   "execution_count": 4,
   "metadata": {},
   "outputs": [
    {
     "name": "stdout",
     "output_type": "stream",
     "text": [
      "(1460, 81)\n"
     ]
    },
    {
     "data": {
      "text/plain": "   Id  MSSubClass MSZoning  LotFrontage  LotArea Street Alley LotShape  \\\n0   1          60       RL         65.0     8450   Pave   NaN      Reg   \n1   2          20       RL         80.0     9600   Pave   NaN      Reg   \n2   3          60       RL         68.0    11250   Pave   NaN      IR1   \n3   4          70       RL         60.0     9550   Pave   NaN      IR1   \n4   5          60       RL         84.0    14260   Pave   NaN      IR1   \n\n  LandContour Utilities LotConfig LandSlope Neighborhood Condition1  \\\n0         Lvl    AllPub    Inside       Gtl      CollgCr       Norm   \n1         Lvl    AllPub       FR2       Gtl      Veenker      Feedr   \n2         Lvl    AllPub    Inside       Gtl      CollgCr       Norm   \n3         Lvl    AllPub    Corner       Gtl      Crawfor       Norm   \n4         Lvl    AllPub       FR2       Gtl      NoRidge       Norm   \n\n  Condition2 BldgType HouseStyle  OverallQual  OverallCond  YearBuilt  \\\n0       Norm     1Fam     2Story            7            5       2003   \n1       Norm     1Fam     1Story            6            8       1976   \n2       Norm     1Fam     2Story            7            5       2001   \n3       Norm     1Fam     2Story            7            5       1915   \n4       Norm     1Fam     2Story            8            5       2000   \n\n   YearRemodAdd RoofStyle RoofMatl Exterior1st Exterior2nd MasVnrType  \\\n0          2003     Gable  CompShg     VinylSd     VinylSd    BrkFace   \n1          1976     Gable  CompShg     MetalSd     MetalSd       None   \n2          2002     Gable  CompShg     VinylSd     VinylSd    BrkFace   \n3          1970     Gable  CompShg     Wd Sdng     Wd Shng       None   \n4          2000     Gable  CompShg     VinylSd     VinylSd    BrkFace   \n\n   MasVnrArea ExterQual ExterCond Foundation BsmtQual BsmtCond BsmtExposure  \\\n0       196.0        Gd        TA      PConc       Gd       TA           No   \n1         0.0        TA        TA     CBlock       Gd       TA           Gd   \n2       162.0        Gd        TA      PConc       Gd       TA           Mn   \n3         0.0        TA        TA     BrkTil       TA       Gd           No   \n4       350.0        Gd        TA      PConc       Gd       TA           Av   \n\n  BsmtFinType1  BsmtFinSF1 BsmtFinType2  BsmtFinSF2  BsmtUnfSF  TotalBsmtSF  \\\n0          GLQ         706          Unf           0        150          856   \n1          ALQ         978          Unf           0        284         1262   \n2          GLQ         486          Unf           0        434          920   \n3          ALQ         216          Unf           0        540          756   \n4          GLQ         655          Unf           0        490         1145   \n\n  Heating HeatingQC CentralAir Electrical  1stFlrSF  2ndFlrSF  LowQualFinSF  \\\n0    GasA        Ex          Y      SBrkr       856       854             0   \n1    GasA        Ex          Y      SBrkr      1262         0             0   \n2    GasA        Ex          Y      SBrkr       920       866             0   \n3    GasA        Gd          Y      SBrkr       961       756             0   \n4    GasA        Ex          Y      SBrkr      1145      1053             0   \n\n   GrLivArea  BsmtFullBath  BsmtHalfBath  FullBath  HalfBath  BedroomAbvGr  \\\n0       1710             1             0         2         1             3   \n1       1262             0             1         2         0             3   \n2       1786             1             0         2         1             3   \n3       1717             1             0         1         0             3   \n4       2198             1             0         2         1             4   \n\n   KitchenAbvGr KitchenQual  TotRmsAbvGrd Functional  Fireplaces FireplaceQu  \\\n0             1          Gd             8        Typ           0         NaN   \n1             1          TA             6        Typ           1          TA   \n2             1          Gd             6        Typ           1          TA   \n3             1          Gd             7        Typ           1          Gd   \n4             1          Gd             9        Typ           1          TA   \n\n  GarageType  GarageYrBlt GarageFinish  GarageCars  GarageArea GarageQual  \\\n0     Attchd       2003.0          RFn           2         548         TA   \n1     Attchd       1976.0          RFn           2         460         TA   \n2     Attchd       2001.0          RFn           2         608         TA   \n3     Detchd       1998.0          Unf           3         642         TA   \n4     Attchd       2000.0          RFn           3         836         TA   \n\n  GarageCond PavedDrive  WoodDeckSF  OpenPorchSF  EnclosedPorch  3SsnPorch  \\\n0         TA          Y           0           61              0          0   \n1         TA          Y         298            0              0          0   \n2         TA          Y           0           42              0          0   \n3         TA          Y           0           35            272          0   \n4         TA          Y         192           84              0          0   \n\n   ScreenPorch  PoolArea PoolQC Fence MiscFeature  MiscVal  MoSold  YrSold  \\\n0            0         0    NaN   NaN         NaN        0       2    2008   \n1            0         0    NaN   NaN         NaN        0       5    2007   \n2            0         0    NaN   NaN         NaN        0       9    2008   \n3            0         0    NaN   NaN         NaN        0       2    2006   \n4            0         0    NaN   NaN         NaN        0      12    2008   \n\n  SaleType SaleCondition  SalePrice  \n0       WD        Normal     208500  \n1       WD        Normal     181500  \n2       WD        Normal     223500  \n3       WD       Abnorml     140000  \n4       WD        Normal     250000  ",
      "text/html": "<div>\n<style scoped>\n    .dataframe tbody tr th:only-of-type {\n        vertical-align: middle;\n    }\n\n    .dataframe tbody tr th {\n        vertical-align: top;\n    }\n\n    .dataframe thead th {\n        text-align: right;\n    }\n</style>\n<table border=\"1\" class=\"dataframe\">\n  <thead>\n    <tr style=\"text-align: right;\">\n      <th></th>\n      <th>Id</th>\n      <th>MSSubClass</th>\n      <th>MSZoning</th>\n      <th>LotFrontage</th>\n      <th>LotArea</th>\n      <th>Street</th>\n      <th>Alley</th>\n      <th>LotShape</th>\n      <th>LandContour</th>\n      <th>Utilities</th>\n      <th>LotConfig</th>\n      <th>LandSlope</th>\n      <th>Neighborhood</th>\n      <th>Condition1</th>\n      <th>Condition2</th>\n      <th>BldgType</th>\n      <th>HouseStyle</th>\n      <th>OverallQual</th>\n      <th>OverallCond</th>\n      <th>YearBuilt</th>\n      <th>YearRemodAdd</th>\n      <th>RoofStyle</th>\n      <th>RoofMatl</th>\n      <th>Exterior1st</th>\n      <th>Exterior2nd</th>\n      <th>MasVnrType</th>\n      <th>MasVnrArea</th>\n      <th>ExterQual</th>\n      <th>ExterCond</th>\n      <th>Foundation</th>\n      <th>BsmtQual</th>\n      <th>BsmtCond</th>\n      <th>BsmtExposure</th>\n      <th>BsmtFinType1</th>\n      <th>BsmtFinSF1</th>\n      <th>BsmtFinType2</th>\n      <th>BsmtFinSF2</th>\n      <th>BsmtUnfSF</th>\n      <th>TotalBsmtSF</th>\n      <th>Heating</th>\n      <th>HeatingQC</th>\n      <th>CentralAir</th>\n      <th>Electrical</th>\n      <th>1stFlrSF</th>\n      <th>2ndFlrSF</th>\n      <th>LowQualFinSF</th>\n      <th>GrLivArea</th>\n      <th>BsmtFullBath</th>\n      <th>BsmtHalfBath</th>\n      <th>FullBath</th>\n      <th>HalfBath</th>\n      <th>BedroomAbvGr</th>\n      <th>KitchenAbvGr</th>\n      <th>KitchenQual</th>\n      <th>TotRmsAbvGrd</th>\n      <th>Functional</th>\n      <th>Fireplaces</th>\n      <th>FireplaceQu</th>\n      <th>GarageType</th>\n      <th>GarageYrBlt</th>\n      <th>GarageFinish</th>\n      <th>GarageCars</th>\n      <th>GarageArea</th>\n      <th>GarageQual</th>\n      <th>GarageCond</th>\n      <th>PavedDrive</th>\n      <th>WoodDeckSF</th>\n      <th>OpenPorchSF</th>\n      <th>EnclosedPorch</th>\n      <th>3SsnPorch</th>\n      <th>ScreenPorch</th>\n      <th>PoolArea</th>\n      <th>PoolQC</th>\n      <th>Fence</th>\n      <th>MiscFeature</th>\n      <th>MiscVal</th>\n      <th>MoSold</th>\n      <th>YrSold</th>\n      <th>SaleType</th>\n      <th>SaleCondition</th>\n      <th>SalePrice</th>\n    </tr>\n  </thead>\n  <tbody>\n    <tr>\n      <th>0</th>\n      <td>1</td>\n      <td>60</td>\n      <td>RL</td>\n      <td>65.0</td>\n      <td>8450</td>\n      <td>Pave</td>\n      <td>NaN</td>\n      <td>Reg</td>\n      <td>Lvl</td>\n      <td>AllPub</td>\n      <td>Inside</td>\n      <td>Gtl</td>\n      <td>CollgCr</td>\n      <td>Norm</td>\n      <td>Norm</td>\n      <td>1Fam</td>\n      <td>2Story</td>\n      <td>7</td>\n      <td>5</td>\n      <td>2003</td>\n      <td>2003</td>\n      <td>Gable</td>\n      <td>CompShg</td>\n      <td>VinylSd</td>\n      <td>VinylSd</td>\n      <td>BrkFace</td>\n      <td>196.0</td>\n      <td>Gd</td>\n      <td>TA</td>\n      <td>PConc</td>\n      <td>Gd</td>\n      <td>TA</td>\n      <td>No</td>\n      <td>GLQ</td>\n      <td>706</td>\n      <td>Unf</td>\n      <td>0</td>\n      <td>150</td>\n      <td>856</td>\n      <td>GasA</td>\n      <td>Ex</td>\n      <td>Y</td>\n      <td>SBrkr</td>\n      <td>856</td>\n      <td>854</td>\n      <td>0</td>\n      <td>1710</td>\n      <td>1</td>\n      <td>0</td>\n      <td>2</td>\n      <td>1</td>\n      <td>3</td>\n      <td>1</td>\n      <td>Gd</td>\n      <td>8</td>\n      <td>Typ</td>\n      <td>0</td>\n      <td>NaN</td>\n      <td>Attchd</td>\n      <td>2003.0</td>\n      <td>RFn</td>\n      <td>2</td>\n      <td>548</td>\n      <td>TA</td>\n      <td>TA</td>\n      <td>Y</td>\n      <td>0</td>\n      <td>61</td>\n      <td>0</td>\n      <td>0</td>\n      <td>0</td>\n      <td>0</td>\n      <td>NaN</td>\n      <td>NaN</td>\n      <td>NaN</td>\n      <td>0</td>\n      <td>2</td>\n      <td>2008</td>\n      <td>WD</td>\n      <td>Normal</td>\n      <td>208500</td>\n    </tr>\n    <tr>\n      <th>1</th>\n      <td>2</td>\n      <td>20</td>\n      <td>RL</td>\n      <td>80.0</td>\n      <td>9600</td>\n      <td>Pave</td>\n      <td>NaN</td>\n      <td>Reg</td>\n      <td>Lvl</td>\n      <td>AllPub</td>\n      <td>FR2</td>\n      <td>Gtl</td>\n      <td>Veenker</td>\n      <td>Feedr</td>\n      <td>Norm</td>\n      <td>1Fam</td>\n      <td>1Story</td>\n      <td>6</td>\n      <td>8</td>\n      <td>1976</td>\n      <td>1976</td>\n      <td>Gable</td>\n      <td>CompShg</td>\n      <td>MetalSd</td>\n      <td>MetalSd</td>\n      <td>None</td>\n      <td>0.0</td>\n      <td>TA</td>\n      <td>TA</td>\n      <td>CBlock</td>\n      <td>Gd</td>\n      <td>TA</td>\n      <td>Gd</td>\n      <td>ALQ</td>\n      <td>978</td>\n      <td>Unf</td>\n      <td>0</td>\n      <td>284</td>\n      <td>1262</td>\n      <td>GasA</td>\n      <td>Ex</td>\n      <td>Y</td>\n      <td>SBrkr</td>\n      <td>1262</td>\n      <td>0</td>\n      <td>0</td>\n      <td>1262</td>\n      <td>0</td>\n      <td>1</td>\n      <td>2</td>\n      <td>0</td>\n      <td>3</td>\n      <td>1</td>\n      <td>TA</td>\n      <td>6</td>\n      <td>Typ</td>\n      <td>1</td>\n      <td>TA</td>\n      <td>Attchd</td>\n      <td>1976.0</td>\n      <td>RFn</td>\n      <td>2</td>\n      <td>460</td>\n      <td>TA</td>\n      <td>TA</td>\n      <td>Y</td>\n      <td>298</td>\n      <td>0</td>\n      <td>0</td>\n      <td>0</td>\n      <td>0</td>\n      <td>0</td>\n      <td>NaN</td>\n      <td>NaN</td>\n      <td>NaN</td>\n      <td>0</td>\n      <td>5</td>\n      <td>2007</td>\n      <td>WD</td>\n      <td>Normal</td>\n      <td>181500</td>\n    </tr>\n    <tr>\n      <th>2</th>\n      <td>3</td>\n      <td>60</td>\n      <td>RL</td>\n      <td>68.0</td>\n      <td>11250</td>\n      <td>Pave</td>\n      <td>NaN</td>\n      <td>IR1</td>\n      <td>Lvl</td>\n      <td>AllPub</td>\n      <td>Inside</td>\n      <td>Gtl</td>\n      <td>CollgCr</td>\n      <td>Norm</td>\n      <td>Norm</td>\n      <td>1Fam</td>\n      <td>2Story</td>\n      <td>7</td>\n      <td>5</td>\n      <td>2001</td>\n      <td>2002</td>\n      <td>Gable</td>\n      <td>CompShg</td>\n      <td>VinylSd</td>\n      <td>VinylSd</td>\n      <td>BrkFace</td>\n      <td>162.0</td>\n      <td>Gd</td>\n      <td>TA</td>\n      <td>PConc</td>\n      <td>Gd</td>\n      <td>TA</td>\n      <td>Mn</td>\n      <td>GLQ</td>\n      <td>486</td>\n      <td>Unf</td>\n      <td>0</td>\n      <td>434</td>\n      <td>920</td>\n      <td>GasA</td>\n      <td>Ex</td>\n      <td>Y</td>\n      <td>SBrkr</td>\n      <td>920</td>\n      <td>866</td>\n      <td>0</td>\n      <td>1786</td>\n      <td>1</td>\n      <td>0</td>\n      <td>2</td>\n      <td>1</td>\n      <td>3</td>\n      <td>1</td>\n      <td>Gd</td>\n      <td>6</td>\n      <td>Typ</td>\n      <td>1</td>\n      <td>TA</td>\n      <td>Attchd</td>\n      <td>2001.0</td>\n      <td>RFn</td>\n      <td>2</td>\n      <td>608</td>\n      <td>TA</td>\n      <td>TA</td>\n      <td>Y</td>\n      <td>0</td>\n      <td>42</td>\n      <td>0</td>\n      <td>0</td>\n      <td>0</td>\n      <td>0</td>\n      <td>NaN</td>\n      <td>NaN</td>\n      <td>NaN</td>\n      <td>0</td>\n      <td>9</td>\n      <td>2008</td>\n      <td>WD</td>\n      <td>Normal</td>\n      <td>223500</td>\n    </tr>\n    <tr>\n      <th>3</th>\n      <td>4</td>\n      <td>70</td>\n      <td>RL</td>\n      <td>60.0</td>\n      <td>9550</td>\n      <td>Pave</td>\n      <td>NaN</td>\n      <td>IR1</td>\n      <td>Lvl</td>\n      <td>AllPub</td>\n      <td>Corner</td>\n      <td>Gtl</td>\n      <td>Crawfor</td>\n      <td>Norm</td>\n      <td>Norm</td>\n      <td>1Fam</td>\n      <td>2Story</td>\n      <td>7</td>\n      <td>5</td>\n      <td>1915</td>\n      <td>1970</td>\n      <td>Gable</td>\n      <td>CompShg</td>\n      <td>Wd Sdng</td>\n      <td>Wd Shng</td>\n      <td>None</td>\n      <td>0.0</td>\n      <td>TA</td>\n      <td>TA</td>\n      <td>BrkTil</td>\n      <td>TA</td>\n      <td>Gd</td>\n      <td>No</td>\n      <td>ALQ</td>\n      <td>216</td>\n      <td>Unf</td>\n      <td>0</td>\n      <td>540</td>\n      <td>756</td>\n      <td>GasA</td>\n      <td>Gd</td>\n      <td>Y</td>\n      <td>SBrkr</td>\n      <td>961</td>\n      <td>756</td>\n      <td>0</td>\n      <td>1717</td>\n      <td>1</td>\n      <td>0</td>\n      <td>1</td>\n      <td>0</td>\n      <td>3</td>\n      <td>1</td>\n      <td>Gd</td>\n      <td>7</td>\n      <td>Typ</td>\n      <td>1</td>\n      <td>Gd</td>\n      <td>Detchd</td>\n      <td>1998.0</td>\n      <td>Unf</td>\n      <td>3</td>\n      <td>642</td>\n      <td>TA</td>\n      <td>TA</td>\n      <td>Y</td>\n      <td>0</td>\n      <td>35</td>\n      <td>272</td>\n      <td>0</td>\n      <td>0</td>\n      <td>0</td>\n      <td>NaN</td>\n      <td>NaN</td>\n      <td>NaN</td>\n      <td>0</td>\n      <td>2</td>\n      <td>2006</td>\n      <td>WD</td>\n      <td>Abnorml</td>\n      <td>140000</td>\n    </tr>\n    <tr>\n      <th>4</th>\n      <td>5</td>\n      <td>60</td>\n      <td>RL</td>\n      <td>84.0</td>\n      <td>14260</td>\n      <td>Pave</td>\n      <td>NaN</td>\n      <td>IR1</td>\n      <td>Lvl</td>\n      <td>AllPub</td>\n      <td>FR2</td>\n      <td>Gtl</td>\n      <td>NoRidge</td>\n      <td>Norm</td>\n      <td>Norm</td>\n      <td>1Fam</td>\n      <td>2Story</td>\n      <td>8</td>\n      <td>5</td>\n      <td>2000</td>\n      <td>2000</td>\n      <td>Gable</td>\n      <td>CompShg</td>\n      <td>VinylSd</td>\n      <td>VinylSd</td>\n      <td>BrkFace</td>\n      <td>350.0</td>\n      <td>Gd</td>\n      <td>TA</td>\n      <td>PConc</td>\n      <td>Gd</td>\n      <td>TA</td>\n      <td>Av</td>\n      <td>GLQ</td>\n      <td>655</td>\n      <td>Unf</td>\n      <td>0</td>\n      <td>490</td>\n      <td>1145</td>\n      <td>GasA</td>\n      <td>Ex</td>\n      <td>Y</td>\n      <td>SBrkr</td>\n      <td>1145</td>\n      <td>1053</td>\n      <td>0</td>\n      <td>2198</td>\n      <td>1</td>\n      <td>0</td>\n      <td>2</td>\n      <td>1</td>\n      <td>4</td>\n      <td>1</td>\n      <td>Gd</td>\n      <td>9</td>\n      <td>Typ</td>\n      <td>1</td>\n      <td>TA</td>\n      <td>Attchd</td>\n      <td>2000.0</td>\n      <td>RFn</td>\n      <td>3</td>\n      <td>836</td>\n      <td>TA</td>\n      <td>TA</td>\n      <td>Y</td>\n      <td>192</td>\n      <td>84</td>\n      <td>0</td>\n      <td>0</td>\n      <td>0</td>\n      <td>0</td>\n      <td>NaN</td>\n      <td>NaN</td>\n      <td>NaN</td>\n      <td>0</td>\n      <td>12</td>\n      <td>2008</td>\n      <td>WD</td>\n      <td>Normal</td>\n      <td>250000</td>\n    </tr>\n  </tbody>\n</table>\n</div>"
     },
     "execution_count": 4,
     "metadata": {},
     "output_type": "execute_result"
    }
   ],
   "source": [
    "# load dataset\n",
    "# remember to download the data set  from Kaggle and save it into \n",
    "# the same folder from where you run this notebook\n",
    "\n",
    "data = pd.read_csv('train.csv')\n",
    "\n",
    "print(data.shape)\n",
    "data.head()"
   ]
  },
  {
   "cell_type": "markdown",
   "metadata": {},
   "source": [
    "### Separate dataset into train and test\n",
    "\n",
    "Before beginning to engineer our features, it is important to separate our data intro training and testing set. This is to avoid over-fitting. This step involves randomness, therefore, we need to set the seed."
   ]
  },
  {
   "cell_type": "code",
   "execution_count": 6,
   "metadata": {},
   "outputs": [
    {
     "data": {
      "text/plain": "((1314, 80), (146, 80), (1314,), (146,))"
     },
     "execution_count": 6,
     "metadata": {},
     "output_type": "execute_result"
    }
   ],
   "source": [
    "# Let's separate into train and test set\n",
    "\n",
    "X_train, X_test, y_train, y_test = train_test_split(\n",
    "    data.drop('SalePrice', axis=1), # predictors\n",
    "    data.SalePrice, # target\n",
    "    test_size=0.1,\n",
    "    random_state=0)  # for reproducibility\n",
    "\n",
    "X_train.shape, X_test.shape, y_train.shape, y_test.shape"
   ]
  },
  {
   "cell_type": "markdown",
   "metadata": {},
   "source": [
    "### Missing values"
   ]
  },
  {
   "cell_type": "code",
   "execution_count": 7,
   "metadata": {
    "scrolled": true
   },
   "outputs": [],
   "source": [
    "# make lists capturing the different variables types in our dataset:\n",
    "# -----------------------------------------\n",
    "# one list to capture date variables\n",
    "# one list to capture categorical variables\n",
    "# one list to capture numerical variables\n",
    "\n",
    "vars_dates = ['YearBuilt', 'YearRemodAdd', 'GarageYrBlt']\n",
    "vars_cat = [var for var in X_train.columns if X_train[var].dtypes == 'O']\n",
    "vars_num = [var for var in X_train.columns if X_train[var].dtypes !=\n",
    "            'O' and var not in ['Id']]"
   ]
  },
  {
   "cell_type": "code",
   "execution_count": 8,
   "metadata": {},
   "outputs": [
    {
     "data": {
      "text/plain": "GarageYrBlt     0.056317\nYearBuilt       0.000000\nYearRemodAdd    0.000000\ndtype: float64"
     },
     "execution_count": 8,
     "metadata": {},
     "output_type": "execute_result"
    }
   ],
   "source": [
    "# check for missing values in our date variables\n",
    "\n",
    "X_train[vars_dates].isnull().mean().sort_values(ascending=False)"
   ]
  },
  {
   "cell_type": "code",
   "execution_count": 9,
   "metadata": {
    "scrolled": true
   },
   "outputs": [
    {
     "data": {
      "text/plain": "LotFrontage      0.177321\nGarageYrBlt      0.056317\nMasVnrArea       0.004566\nWoodDeckSF       0.000000\nBedroomAbvGr     0.000000\nKitchenAbvGr     0.000000\nTotRmsAbvGrd     0.000000\nFireplaces       0.000000\nGarageCars       0.000000\nGarageArea       0.000000\nMSSubClass       0.000000\nHalfBath         0.000000\nEnclosedPorch    0.000000\n3SsnPorch        0.000000\nScreenPorch      0.000000\nPoolArea         0.000000\nMiscVal          0.000000\nMoSold           0.000000\nOpenPorchSF      0.000000\nFullBath         0.000000\nBsmtHalfBath     0.000000\nBsmtFullBath     0.000000\nGrLivArea        0.000000\nLowQualFinSF     0.000000\n2ndFlrSF         0.000000\n1stFlrSF         0.000000\nTotalBsmtSF      0.000000\nBsmtUnfSF        0.000000\nBsmtFinSF2       0.000000\nBsmtFinSF1       0.000000\nYearRemodAdd     0.000000\nYearBuilt        0.000000\nOverallCond      0.000000\nOverallQual      0.000000\nLotArea          0.000000\nYrSold           0.000000\ndtype: float64"
     },
     "execution_count": 9,
     "metadata": {},
     "output_type": "execute_result"
    }
   ],
   "source": [
    "# check for missing values in our numerical variables\n",
    "\n",
    "X_train[vars_num].isnull().mean().sort_values(ascending=False)"
   ]
  },
  {
   "cell_type": "code",
   "execution_count": 10,
   "metadata": {
    "scrolled": true
   },
   "outputs": [
    {
     "data": {
      "text/plain": "PoolQC           0.995434\nMiscFeature      0.961187\nAlley            0.938356\nFence            0.814307\nFireplaceQu      0.472603\nGarageType       0.056317\nGarageCond       0.056317\nGarageQual       0.056317\nGarageFinish     0.056317\nBsmtFinType2     0.025114\nBsmtExposure     0.025114\nBsmtFinType1     0.024353\nBsmtQual         0.024353\nBsmtCond         0.024353\nMasVnrType       0.004566\nElectrical       0.000761\nFunctional       0.000000\nKitchenQual      0.000000\nCentralAir       0.000000\nHeatingQC        0.000000\nHeating          0.000000\nPavedDrive       0.000000\nSaleType         0.000000\nMSZoning         0.000000\nStreet           0.000000\nCondition2       0.000000\nLotShape         0.000000\nLandContour      0.000000\nUtilities        0.000000\nLotConfig        0.000000\nLandSlope        0.000000\nNeighborhood     0.000000\nCondition1       0.000000\nBldgType         0.000000\nFoundation       0.000000\nHouseStyle       0.000000\nRoofStyle        0.000000\nRoofMatl         0.000000\nExterior1st      0.000000\nExterior2nd      0.000000\nExterQual        0.000000\nExterCond        0.000000\nSaleCondition    0.000000\ndtype: float64"
     },
     "execution_count": 10,
     "metadata": {},
     "output_type": "execute_result"
    }
   ],
   "source": [
    "# check for missing values in our categorical variables\n",
    "\n",
    "X_train[vars_cat].isnull().mean().sort_values(ascending=False)"
   ]
  },
  {
   "cell_type": "code",
   "execution_count": 11,
   "metadata": {
    "scrolled": true
   },
   "outputs": [],
   "source": [
    "# removing missing data\n",
    "# --------------------\n",
    "# imputation numerical variables\n",
    "imputer = SimpleImputer(strategy='constant', fill_value=-1)\n",
    "X_train['LotFrontage'] = imputer.fit_transform(X_train['LotFrontage'].to_frame())\n",
    "X_test['LotFrontage'] = imputer.transform(X_test['LotFrontage'].to_frame())\n",
    "\n",
    "imputer = SimpleImputer(strategy='most_frequent')\n",
    "X_train[vars_num] = imputer.fit_transform(X_train[vars_num])\n",
    "X_test[vars_num] = imputer.transform(X_test[vars_num])"
   ]
  },
  {
   "cell_type": "code",
   "execution_count": 19,
   "metadata": {},
   "outputs": [],
   "source": [
    "# imputation categorical variables\n",
    "imputer = SimpleImputer(strategy='constant', fill_value='missing')\n",
    "X_train[vars_cat] = imputer.fit_transform(X_train[vars_cat])\n",
    "X_test[vars_cat] = imputer.transform(X_test[vars_cat])"
   ]
  },
  {
   "cell_type": "markdown",
   "metadata": {},
   "source": [
    "### Temporal variables"
   ]
  },
  {
   "cell_type": "code",
   "execution_count": 20,
   "metadata": {},
   "outputs": [],
   "source": [
    "# let's create new temporal features from our date variables\n",
    "\n",
    "\n",
    "def elapsed_years(df, var):\n",
    "    # capture difference between year variable and year the house was sold\n",
    "    df[var] = df['YrSold'] - df[var]\n",
    "    return df"
   ]
  },
  {
   "cell_type": "code",
   "execution_count": 24,
   "metadata": {},
   "outputs": [
    {
     "name": "stdout",
     "output_type": "stream",
     "text": [
      "Unexpected exception formatting exception. Falling back to standard exception\n"
     ]
    },
    {
     "name": "stderr",
     "output_type": "stream",
     "text": [
      "Traceback (most recent call last):\n",
      "  File \"/usr/local/lib/python3.9/site-packages/IPython/core/interactiveshell.py\", line 3460, in run_code\n",
      "    exec(code_obj, self.user_global_ns, self.user_ns)\n",
      "  File \"/var/folders/w2/69b2sdj90tq97dgr3llxwvdm0000gn/T/ipykernel_45941/1716904559.py\", line 2, in <module>\n",
      "    X_train = elapsed_years(X_train, var)\n",
      "  File \"/var/folders/w2/69b2sdj90tq97dgr3llxwvdm0000gn/T/ipykernel_45941/3761268353.py\", line 6, in elapsed_years\n",
      "    df[var] = df['YrSold'] - df[var]\n",
      "  File \"/usr/local/lib/python3.9/site-packages/pandas/core/ops/common.py\", line 65, in new_method\n",
      "    return NotImplemented\n",
      "  File \"/usr/local/lib/python3.9/site-packages/pandas/core/arraylike.py\", line 97, in __sub__\n",
      "  File \"/usr/local/lib/python3.9/site-packages/pandas/core/series.py\", line 4998, in _arith_method\n",
      "    2     True\n",
      "  File \"/usr/local/lib/python3.9/site-packages/pandas/core/ops/array_ops.py\", line 189, in arithmetic_op\n",
      "    Note: the caller is responsible for ensuring that numpy warnings are\n",
      "  File \"/usr/local/lib/python3.9/site-packages/pandas/core/ops/array_ops.py\", line 139, in _na_arithmetic_op\n",
      "    \"\"\"\n",
      "  File \"/usr/local/lib/python3.9/site-packages/pandas/core/computation/expressions.py\", line 19, in <module>\n",
      "    from pandas.core.computation.check import NUMEXPR_INSTALLED\n",
      "  File \"/usr/local/lib/python3.9/site-packages/pandas/core/computation/check.py\", line 3, in <module>\n",
      "    ne = import_optional_dependency(\"numexpr\", errors=\"warn\")\n",
      "TypeError: import_optional_dependency() got an unexpected keyword argument 'errors'\n",
      "\n",
      "During handling of the above exception, another exception occurred:\n",
      "\n",
      "Traceback (most recent call last):\n",
      "  File \"/usr/local/lib/python3.9/site-packages/IPython/core/interactiveshell.py\", line 2057, in showtraceback\n",
      "    stb = self.InteractiveTB.structured_traceback(\n",
      "  File \"/usr/local/lib/python3.9/site-packages/IPython/core/ultratb.py\", line 1288, in structured_traceback\n",
      "    return FormattedTB.structured_traceback(\n",
      "  File \"/usr/local/lib/python3.9/site-packages/IPython/core/ultratb.py\", line 1177, in structured_traceback\n",
      "    return VerboseTB.structured_traceback(\n",
      "  File \"/usr/local/lib/python3.9/site-packages/IPython/core/ultratb.py\", line 1030, in structured_traceback\n",
      "    formatted_exception = self.format_exception_as_a_whole(etype, evalue, etb, number_of_lines_of_context,\n",
      "  File \"/usr/local/lib/python3.9/site-packages/IPython/core/ultratb.py\", line 960, in format_exception_as_a_whole\n",
      "    frames.append(self.format_record(record))\n",
      "  File \"/usr/local/lib/python3.9/site-packages/IPython/core/ultratb.py\", line 870, in format_record\n",
      "    frame_info.lines, Colors, self.has_colors, lvals\n",
      "  File \"/usr/local/lib/python3.9/site-packages/IPython/core/ultratb.py\", line 704, in lines\n",
      "    return self._sd.lines\n",
      "  File \"/usr/local/lib/python3.9/site-packages/stack_data/utils.py\", line 144, in cached_property_wrapper\n",
      "    value = obj.__dict__[self.func.__name__] = self.func(obj)\n",
      "  File \"/usr/local/lib/python3.9/site-packages/stack_data/core.py\", line 734, in lines\n",
      "    pieces = self.included_pieces\n",
      "  File \"/usr/local/lib/python3.9/site-packages/stack_data/utils.py\", line 144, in cached_property_wrapper\n",
      "    value = obj.__dict__[self.func.__name__] = self.func(obj)\n",
      "  File \"/usr/local/lib/python3.9/site-packages/stack_data/core.py\", line 681, in included_pieces\n",
      "    pos = scope_pieces.index(self.executing_piece)\n",
      "  File \"/usr/local/lib/python3.9/site-packages/stack_data/utils.py\", line 144, in cached_property_wrapper\n",
      "    value = obj.__dict__[self.func.__name__] = self.func(obj)\n",
      "  File \"/usr/local/lib/python3.9/site-packages/stack_data/core.py\", line 660, in executing_piece\n",
      "    return only(\n",
      "  File \"/usr/local/lib/python3.9/site-packages/executing/executing.py\", line 190, in only\n",
      "    raise NotOneValueFound('Expected one value, found 0')\n",
      "executing.executing.NotOneValueFound: Expected one value, found 0\n"
     ]
    }
   ],
   "source": [
    "for var in ['YearBuilt']:\n",
    "    X_train = elapsed_years(X_train, var)\n",
    "    # X_test = elapsed_years(X_test, var)"
   ]
  },
  {
   "cell_type": "code",
   "execution_count": 18,
   "metadata": {},
   "outputs": [
    {
     "data": {
      "text/plain": "[]"
     },
     "execution_count": 18,
     "metadata": {},
     "output_type": "execute_result"
    }
   ],
   "source": [
    "# check that test set does not contain null values in the engineered variables\n",
    "[var for var in ['YearBuilt', 'YearRemodAdd', 'GarageYrBlt'] if X_test[var].isnull().sum()>0]"
   ]
  },
  {
   "cell_type": "markdown",
   "metadata": {},
   "source": [
    "### Categorical variable encoding"
   ]
  },
  {
   "cell_type": "code",
   "execution_count": 25,
   "metadata": {},
   "outputs": [
    {
     "data": {
      "text/plain": "[]"
     },
     "execution_count": 25,
     "metadata": {},
     "output_type": "execute_result"
    }
   ],
   "source": [
    "[var for var in X_train.columns if X_train[var].isnull().sum()>0]"
   ]
  },
  {
   "cell_type": "code",
   "execution_count": 15,
   "metadata": {},
   "outputs": [
    {
     "data": {
      "text/plain": [
       "[]"
      ]
     },
     "execution_count": 15,
     "metadata": {},
     "output_type": "execute_result"
    }
   ],
   "source": [
    "[var for var in X_train.columns if X_test[var].isnull().sum()>0]"
   ]
  },
  {
   "cell_type": "code",
   "execution_count": 26,
   "metadata": {},
   "outputs": [
    {
     "name": "stdout",
     "output_type": "stream",
     "text": [
      "Unexpected exception formatting exception. Falling back to standard exception\n"
     ]
    },
    {
     "name": "stderr",
     "output_type": "stream",
     "text": [
      "Traceback (most recent call last):\n",
      "  File \"/usr/local/lib/python3.9/site-packages/IPython/core/interactiveshell.py\", line 3460, in run_code\n",
      "    exec(code_obj, self.user_global_ns, self.user_ns)\n",
      "  File \"/var/folders/w2/69b2sdj90tq97dgr3llxwvdm0000gn/T/ipykernel_45941/3213015753.py\", line 4, in <module>\n",
      "    rare_enc.fit(X_train)\n",
      "  File \"/usr/local/lib/python3.9/site-packages/feature_engine/categorical_encoders.py\", line 607, in fit\n",
      "    t = pd.Series(X[var].value_counts() / np.float(len(X)))\n",
      "  File \"/usr/local/lib/python3.9/site-packages/pandas/core/ops/common.py\", line 65, in new_method\n",
      "    return NotImplemented\n",
      "  File \"/usr/local/lib/python3.9/site-packages/pandas/core/arraylike.py\", line 113, in __truediv__\n",
      "  File \"/usr/local/lib/python3.9/site-packages/pandas/core/series.py\", line 4998, in _arith_method\n",
      "    2     True\n",
      "  File \"/usr/local/lib/python3.9/site-packages/pandas/core/ops/array_ops.py\", line 189, in arithmetic_op\n",
      "    Note: the caller is responsible for ensuring that numpy warnings are\n",
      "  File \"/usr/local/lib/python3.9/site-packages/pandas/core/ops/array_ops.py\", line 139, in _na_arithmetic_op\n",
      "    \"\"\"\n",
      "  File \"/usr/local/lib/python3.9/site-packages/pandas/core/computation/expressions.py\", line 19, in <module>\n",
      "    from pandas.core.computation.check import NUMEXPR_INSTALLED\n",
      "  File \"/usr/local/lib/python3.9/site-packages/pandas/core/computation/check.py\", line 3, in <module>\n",
      "    ne = import_optional_dependency(\"numexpr\", errors=\"warn\")\n",
      "TypeError: import_optional_dependency() got an unexpected keyword argument 'errors'\n",
      "\n",
      "During handling of the above exception, another exception occurred:\n",
      "\n",
      "Traceback (most recent call last):\n",
      "  File \"/usr/local/lib/python3.9/site-packages/IPython/core/interactiveshell.py\", line 2057, in showtraceback\n",
      "    stb = self.InteractiveTB.structured_traceback(\n",
      "  File \"/usr/local/lib/python3.9/site-packages/IPython/core/ultratb.py\", line 1288, in structured_traceback\n",
      "    return FormattedTB.structured_traceback(\n",
      "  File \"/usr/local/lib/python3.9/site-packages/IPython/core/ultratb.py\", line 1177, in structured_traceback\n",
      "    return VerboseTB.structured_traceback(\n",
      "  File \"/usr/local/lib/python3.9/site-packages/IPython/core/ultratb.py\", line 1030, in structured_traceback\n",
      "    formatted_exception = self.format_exception_as_a_whole(etype, evalue, etb, number_of_lines_of_context,\n",
      "  File \"/usr/local/lib/python3.9/site-packages/IPython/core/ultratb.py\", line 960, in format_exception_as_a_whole\n",
      "    frames.append(self.format_record(record))\n",
      "  File \"/usr/local/lib/python3.9/site-packages/IPython/core/ultratb.py\", line 870, in format_record\n",
      "    frame_info.lines, Colors, self.has_colors, lvals\n",
      "  File \"/usr/local/lib/python3.9/site-packages/IPython/core/ultratb.py\", line 704, in lines\n",
      "    return self._sd.lines\n",
      "  File \"/usr/local/lib/python3.9/site-packages/stack_data/utils.py\", line 144, in cached_property_wrapper\n",
      "    value = obj.__dict__[self.func.__name__] = self.func(obj)\n",
      "  File \"/usr/local/lib/python3.9/site-packages/stack_data/core.py\", line 734, in lines\n",
      "    pieces = self.included_pieces\n",
      "  File \"/usr/local/lib/python3.9/site-packages/stack_data/utils.py\", line 144, in cached_property_wrapper\n",
      "    value = obj.__dict__[self.func.__name__] = self.func(obj)\n",
      "  File \"/usr/local/lib/python3.9/site-packages/stack_data/core.py\", line 681, in included_pieces\n",
      "    pos = scope_pieces.index(self.executing_piece)\n",
      "  File \"/usr/local/lib/python3.9/site-packages/stack_data/utils.py\", line 144, in cached_property_wrapper\n",
      "    value = obj.__dict__[self.func.__name__] = self.func(obj)\n",
      "  File \"/usr/local/lib/python3.9/site-packages/stack_data/core.py\", line 660, in executing_piece\n",
      "    return only(\n",
      "  File \"/usr/local/lib/python3.9/site-packages/executing/executing.py\", line 190, in only\n",
      "    raise NotOneValueFound('Expected one value, found 0')\n",
      "executing.executing.NotOneValueFound: Expected one value, found 0\n"
     ]
    }
   ],
   "source": [
    "# remove rare caregories\n",
    "\n",
    "rare_enc = RareLabelCategoricalEncoder(tol=0.01, n_categories=5, variables = vars_cat)\n",
    "rare_enc.fit(X_train)\n",
    "X_train = rare_enc.transform(X_train)\n",
    "X_test = rare_enc.transform(X_test)"
   ]
  },
  {
   "cell_type": "code",
   "execution_count": 29,
   "metadata": {},
   "outputs": [
    {
     "name": "stdout",
     "output_type": "stream",
     "text": [
      "Unexpected exception formatting exception. Falling back to standard exception\n"
     ]
    },
    {
     "name": "stderr",
     "output_type": "stream",
     "text": [
      "Traceback (most recent call last):\n",
      "  File \"/usr/local/lib/python3.9/site-packages/IPython/core/interactiveshell.py\", line 3460, in run_code\n",
      "    exec(code_obj, self.user_global_ns, self.user_ns)\n",
      "  File \"/var/folders/w2/69b2sdj90tq97dgr3llxwvdm0000gn/T/ipykernel_45941/932334354.py\", line 5, in <module>\n",
      "    X_test[vars_cat] = ordinal_enc.transform(X_test[vars_cat])\n",
      "  File \"/usr/local/lib/python3.9/site-packages/sklearn/utils/_set_output.py\", line 140, in wrapped\n",
      "  File \"/usr/local/lib/python3.9/site-packages/sklearn/preprocessing/_encoders.py\", line 1378, in transform\n",
      "  File \"/usr/local/lib/python3.9/site-packages/sklearn/preprocessing/_encoders.py\", line 174, in _transform\n",
      "    UserWarning,\n",
      "ValueError: Found unknown categories ['RRAn'] in column 10 during transform\n",
      "\n",
      "During handling of the above exception, another exception occurred:\n",
      "\n",
      "Traceback (most recent call last):\n",
      "  File \"/usr/local/lib/python3.9/site-packages/IPython/core/interactiveshell.py\", line 2057, in showtraceback\n",
      "    stb = self.InteractiveTB.structured_traceback(\n",
      "  File \"/usr/local/lib/python3.9/site-packages/IPython/core/ultratb.py\", line 1288, in structured_traceback\n",
      "    return FormattedTB.structured_traceback(\n",
      "  File \"/usr/local/lib/python3.9/site-packages/IPython/core/ultratb.py\", line 1177, in structured_traceback\n",
      "    return VerboseTB.structured_traceback(\n",
      "  File \"/usr/local/lib/python3.9/site-packages/IPython/core/ultratb.py\", line 1030, in structured_traceback\n",
      "    formatted_exception = self.format_exception_as_a_whole(etype, evalue, etb, number_of_lines_of_context,\n",
      "  File \"/usr/local/lib/python3.9/site-packages/IPython/core/ultratb.py\", line 960, in format_exception_as_a_whole\n",
      "    frames.append(self.format_record(record))\n",
      "  File \"/usr/local/lib/python3.9/site-packages/IPython/core/ultratb.py\", line 870, in format_record\n",
      "    frame_info.lines, Colors, self.has_colors, lvals\n",
      "  File \"/usr/local/lib/python3.9/site-packages/IPython/core/ultratb.py\", line 704, in lines\n",
      "    return self._sd.lines\n",
      "  File \"/usr/local/lib/python3.9/site-packages/stack_data/utils.py\", line 144, in cached_property_wrapper\n",
      "    value = obj.__dict__[self.func.__name__] = self.func(obj)\n",
      "  File \"/usr/local/lib/python3.9/site-packages/stack_data/core.py\", line 734, in lines\n",
      "    pieces = self.included_pieces\n",
      "  File \"/usr/local/lib/python3.9/site-packages/stack_data/utils.py\", line 144, in cached_property_wrapper\n",
      "    value = obj.__dict__[self.func.__name__] = self.func(obj)\n",
      "  File \"/usr/local/lib/python3.9/site-packages/stack_data/core.py\", line 681, in included_pieces\n",
      "    pos = scope_pieces.index(self.executing_piece)\n",
      "  File \"/usr/local/lib/python3.9/site-packages/stack_data/utils.py\", line 144, in cached_property_wrapper\n",
      "    value = obj.__dict__[self.func.__name__] = self.func(obj)\n",
      "  File \"/usr/local/lib/python3.9/site-packages/stack_data/core.py\", line 660, in executing_piece\n",
      "    return only(\n",
      "  File \"/usr/local/lib/python3.9/site-packages/executing/executing.py\", line 190, in only\n",
      "    raise NotOneValueFound('Expected one value, found 0')\n",
      "executing.executing.NotOneValueFound: Expected one value, found 0\n"
     ]
    }
   ],
   "source": [
    "# encode with labels\n",
    "\n",
    "ordinal_enc = OrdinalEncoder()\n",
    "X_train[vars_cat] = ordinal_enc.fit_transform(X_train[vars_cat])\n",
    "X_test[vars_cat] = ordinal_enc.transform(X_test[vars_cat])"
   ]
  },
  {
   "cell_type": "code",
   "execution_count": 30,
   "metadata": {},
   "outputs": [
    {
     "data": {
      "text/plain": "[]"
     },
     "execution_count": 30,
     "metadata": {},
     "output_type": "execute_result"
    }
   ],
   "source": [
    "[var for var in X_train.columns if X_test[var].isnull().sum()>0]"
   ]
  },
  {
   "cell_type": "code",
   "execution_count": 31,
   "metadata": {},
   "outputs": [
    {
     "data": {
      "text/plain": "        Id  MSSubClass  MSZoning  LotFrontage  LotArea  Street  Alley  \\\n930    931        20.0       3.0         73.0   8925.0     1.0    2.0   \n656    657        20.0       3.0         72.0  10007.0     1.0    2.0   \n45      46       120.0       3.0         61.0   7658.0     1.0    2.0   \n1348  1349        20.0       3.0         -1.0  16196.0     1.0    2.0   \n55      56        20.0       3.0        100.0  10175.0     1.0    2.0   \n\n      LotShape  LandContour  Utilities  LotConfig  LandSlope  Neighborhood  \\\n930        0.0          1.0        0.0        4.0        0.0          23.0   \n656        0.0          3.0        0.0        4.0        0.0          12.0   \n45         3.0          3.0        0.0        4.0        0.0          16.0   \n1348       2.0          2.0        0.0        4.0        0.0          20.0   \n55         0.0          3.0        0.0        4.0        0.0          12.0   \n\n      Condition1  Condition2  BldgType  HouseStyle  OverallQual  OverallCond  \\\n930          2.0         2.0       0.0         2.0          8.0          5.0   \n656          2.0         2.0       0.0         2.0          5.0          7.0   \n45           2.0         2.0       4.0         2.0          9.0          5.0   \n1348         2.0         2.0       0.0         2.0          7.0          5.0   \n55           2.0         2.0       0.0         2.0          6.0          5.0   \n\n      YearBuilt  YearRemodAdd  RoofStyle  RoofMatl  Exterior1st  Exterior2nd  \\\n930      2007.0        2007.0        1.0       1.0         12.0         13.0   \n656      1959.0        2006.0        1.0       1.0          6.0          6.0   \n45       2005.0        2005.0        3.0       1.0          8.0          8.0   \n1348     1998.0        1998.0        1.0       1.0         12.0         13.0   \n55       1964.0        1964.0        1.0       1.0          6.0         10.0   \n\n      MasVnrType  MasVnrArea  ExterQual  ExterCond  Foundation  BsmtQual  \\\n930          2.0         0.0        2.0        4.0         2.0       2.0   \n656          1.0        54.0        2.0        4.0         1.0       3.0   \n45           1.0       412.0        0.0        4.0         2.0       0.0   \n1348         2.0         0.0        2.0        4.0         2.0       2.0   \n55           1.0       272.0        3.0        4.0         1.0       3.0   \n\n      BsmtCond  BsmtExposure  BsmtFinType1  BsmtFinSF1  BsmtFinType2  \\\n930        3.0           0.0           2.0        16.0           5.0   \n656        3.0           3.0           0.0       806.0           5.0   \n45         3.0           3.0           2.0       456.0           5.0   \n1348       3.0           1.0           2.0      1443.0           5.0   \n55         3.0           3.0           1.0       490.0           5.0   \n\n      BsmtFinSF2  BsmtUnfSF  TotalBsmtSF  Heating  HeatingQC  CentralAir  \\\n930          0.0     1450.0       1466.0      1.0        0.0         1.0   \n656          0.0      247.0       1053.0      1.0        0.0         1.0   \n45           0.0     1296.0       1752.0      1.0        0.0         1.0   \n1348         0.0       39.0       1482.0      1.0        0.0         1.0   \n55           0.0      935.0       1425.0      1.0        2.0         1.0   \n\n      Electrical  1stFlrSF  2ndFlrSF  LowQualFinSF  GrLivArea  BsmtFullBath  \\\n930          4.0    1466.0       0.0           0.0     1466.0           0.0   \n656          4.0    1053.0       0.0           0.0     1053.0           1.0   \n45           4.0    1752.0       0.0           0.0     1752.0           1.0   \n1348         4.0    1494.0       0.0           0.0     1494.0           1.0   \n55           4.0    1425.0       0.0           0.0     1425.0           0.0   \n\n      BsmtHalfBath  FullBath  HalfBath  BedroomAbvGr  KitchenAbvGr  \\\n930            0.0       2.0       0.0           3.0           1.0   \n656            0.0       1.0       1.0           3.0           1.0   \n45             0.0       2.0       0.0           2.0           1.0   \n1348           0.0       2.0       0.0           3.0           1.0   \n55             0.0       2.0       0.0           3.0           1.0   \n\n      KitchenQual  TotRmsAbvGrd  Functional  Fireplaces  FireplaceQu  \\\n930           2.0           7.0         6.0         0.0          5.0   \n656           2.0           5.0         6.0         0.0          5.0   \n45            0.0           6.0         6.0         1.0          2.0   \n1348          2.0           5.0         6.0         1.0          1.0   \n55            3.0           7.0         6.0         1.0          2.0   \n\n      GarageType  GarageYrBlt  GarageFinish  GarageCars  GarageArea  \\\n930          1.0       2007.0           0.0         3.0       610.0   \n656          1.0       1959.0           1.0         1.0       312.0   \n45           1.0       2005.0           1.0         2.0       576.0   \n1348         1.0       1998.0           1.0         2.0       514.0   \n55           1.0       1964.0           1.0         2.0       576.0   \n\n      GarageQual  GarageCond  PavedDrive  WoodDeckSF  OpenPorchSF  \\\n930          4.0         4.0         2.0       100.0         18.0   \n656          4.0         4.0         2.0         0.0          0.0   \n45           4.0         4.0         2.0       196.0         82.0   \n1348         4.0         4.0         2.0       402.0         25.0   \n55           4.0         4.0         2.0         0.0          0.0   \n\n      EnclosedPorch  3SsnPorch  ScreenPorch  PoolArea  PoolQC  Fence  \\\n930             0.0        0.0          0.0       0.0     3.0    4.0   \n656             0.0        0.0          0.0       0.0     3.0    2.0   \n45              0.0        0.0          0.0       0.0     3.0    4.0   \n1348            0.0        0.0          0.0       0.0     3.0    4.0   \n55              0.0      407.0          0.0       0.0     3.0    4.0   \n\n      MiscFeature  MiscVal  MoSold  YrSold  SaleType  SaleCondition  \n930           4.0      0.0     7.0  2009.0       8.0            4.0  \n656           4.0      0.0     8.0  2008.0       8.0            4.0  \n45            4.0      0.0     2.0  2010.0       8.0            4.0  \n1348          4.0      0.0     8.0  2007.0       8.0            4.0  \n55            4.0      0.0     7.0  2008.0       8.0            4.0  ",
      "text/html": "<div>\n<style scoped>\n    .dataframe tbody tr th:only-of-type {\n        vertical-align: middle;\n    }\n\n    .dataframe tbody tr th {\n        vertical-align: top;\n    }\n\n    .dataframe thead th {\n        text-align: right;\n    }\n</style>\n<table border=\"1\" class=\"dataframe\">\n  <thead>\n    <tr style=\"text-align: right;\">\n      <th></th>\n      <th>Id</th>\n      <th>MSSubClass</th>\n      <th>MSZoning</th>\n      <th>LotFrontage</th>\n      <th>LotArea</th>\n      <th>Street</th>\n      <th>Alley</th>\n      <th>LotShape</th>\n      <th>LandContour</th>\n      <th>Utilities</th>\n      <th>LotConfig</th>\n      <th>LandSlope</th>\n      <th>Neighborhood</th>\n      <th>Condition1</th>\n      <th>Condition2</th>\n      <th>BldgType</th>\n      <th>HouseStyle</th>\n      <th>OverallQual</th>\n      <th>OverallCond</th>\n      <th>YearBuilt</th>\n      <th>YearRemodAdd</th>\n      <th>RoofStyle</th>\n      <th>RoofMatl</th>\n      <th>Exterior1st</th>\n      <th>Exterior2nd</th>\n      <th>MasVnrType</th>\n      <th>MasVnrArea</th>\n      <th>ExterQual</th>\n      <th>ExterCond</th>\n      <th>Foundation</th>\n      <th>BsmtQual</th>\n      <th>BsmtCond</th>\n      <th>BsmtExposure</th>\n      <th>BsmtFinType1</th>\n      <th>BsmtFinSF1</th>\n      <th>BsmtFinType2</th>\n      <th>BsmtFinSF2</th>\n      <th>BsmtUnfSF</th>\n      <th>TotalBsmtSF</th>\n      <th>Heating</th>\n      <th>HeatingQC</th>\n      <th>CentralAir</th>\n      <th>Electrical</th>\n      <th>1stFlrSF</th>\n      <th>2ndFlrSF</th>\n      <th>LowQualFinSF</th>\n      <th>GrLivArea</th>\n      <th>BsmtFullBath</th>\n      <th>BsmtHalfBath</th>\n      <th>FullBath</th>\n      <th>HalfBath</th>\n      <th>BedroomAbvGr</th>\n      <th>KitchenAbvGr</th>\n      <th>KitchenQual</th>\n      <th>TotRmsAbvGrd</th>\n      <th>Functional</th>\n      <th>Fireplaces</th>\n      <th>FireplaceQu</th>\n      <th>GarageType</th>\n      <th>GarageYrBlt</th>\n      <th>GarageFinish</th>\n      <th>GarageCars</th>\n      <th>GarageArea</th>\n      <th>GarageQual</th>\n      <th>GarageCond</th>\n      <th>PavedDrive</th>\n      <th>WoodDeckSF</th>\n      <th>OpenPorchSF</th>\n      <th>EnclosedPorch</th>\n      <th>3SsnPorch</th>\n      <th>ScreenPorch</th>\n      <th>PoolArea</th>\n      <th>PoolQC</th>\n      <th>Fence</th>\n      <th>MiscFeature</th>\n      <th>MiscVal</th>\n      <th>MoSold</th>\n      <th>YrSold</th>\n      <th>SaleType</th>\n      <th>SaleCondition</th>\n    </tr>\n  </thead>\n  <tbody>\n    <tr>\n      <th>930</th>\n      <td>931</td>\n      <td>20.0</td>\n      <td>3.0</td>\n      <td>73.0</td>\n      <td>8925.0</td>\n      <td>1.0</td>\n      <td>2.0</td>\n      <td>0.0</td>\n      <td>1.0</td>\n      <td>0.0</td>\n      <td>4.0</td>\n      <td>0.0</td>\n      <td>23.0</td>\n      <td>2.0</td>\n      <td>2.0</td>\n      <td>0.0</td>\n      <td>2.0</td>\n      <td>8.0</td>\n      <td>5.0</td>\n      <td>2007.0</td>\n      <td>2007.0</td>\n      <td>1.0</td>\n      <td>1.0</td>\n      <td>12.0</td>\n      <td>13.0</td>\n      <td>2.0</td>\n      <td>0.0</td>\n      <td>2.0</td>\n      <td>4.0</td>\n      <td>2.0</td>\n      <td>2.0</td>\n      <td>3.0</td>\n      <td>0.0</td>\n      <td>2.0</td>\n      <td>16.0</td>\n      <td>5.0</td>\n      <td>0.0</td>\n      <td>1450.0</td>\n      <td>1466.0</td>\n      <td>1.0</td>\n      <td>0.0</td>\n      <td>1.0</td>\n      <td>4.0</td>\n      <td>1466.0</td>\n      <td>0.0</td>\n      <td>0.0</td>\n      <td>1466.0</td>\n      <td>0.0</td>\n      <td>0.0</td>\n      <td>2.0</td>\n      <td>0.0</td>\n      <td>3.0</td>\n      <td>1.0</td>\n      <td>2.0</td>\n      <td>7.0</td>\n      <td>6.0</td>\n      <td>0.0</td>\n      <td>5.0</td>\n      <td>1.0</td>\n      <td>2007.0</td>\n      <td>0.0</td>\n      <td>3.0</td>\n      <td>610.0</td>\n      <td>4.0</td>\n      <td>4.0</td>\n      <td>2.0</td>\n      <td>100.0</td>\n      <td>18.0</td>\n      <td>0.0</td>\n      <td>0.0</td>\n      <td>0.0</td>\n      <td>0.0</td>\n      <td>3.0</td>\n      <td>4.0</td>\n      <td>4.0</td>\n      <td>0.0</td>\n      <td>7.0</td>\n      <td>2009.0</td>\n      <td>8.0</td>\n      <td>4.0</td>\n    </tr>\n    <tr>\n      <th>656</th>\n      <td>657</td>\n      <td>20.0</td>\n      <td>3.0</td>\n      <td>72.0</td>\n      <td>10007.0</td>\n      <td>1.0</td>\n      <td>2.0</td>\n      <td>0.0</td>\n      <td>3.0</td>\n      <td>0.0</td>\n      <td>4.0</td>\n      <td>0.0</td>\n      <td>12.0</td>\n      <td>2.0</td>\n      <td>2.0</td>\n      <td>0.0</td>\n      <td>2.0</td>\n      <td>5.0</td>\n      <td>7.0</td>\n      <td>1959.0</td>\n      <td>2006.0</td>\n      <td>1.0</td>\n      <td>1.0</td>\n      <td>6.0</td>\n      <td>6.0</td>\n      <td>1.0</td>\n      <td>54.0</td>\n      <td>2.0</td>\n      <td>4.0</td>\n      <td>1.0</td>\n      <td>3.0</td>\n      <td>3.0</td>\n      <td>3.0</td>\n      <td>0.0</td>\n      <td>806.0</td>\n      <td>5.0</td>\n      <td>0.0</td>\n      <td>247.0</td>\n      <td>1053.0</td>\n      <td>1.0</td>\n      <td>0.0</td>\n      <td>1.0</td>\n      <td>4.0</td>\n      <td>1053.0</td>\n      <td>0.0</td>\n      <td>0.0</td>\n      <td>1053.0</td>\n      <td>1.0</td>\n      <td>0.0</td>\n      <td>1.0</td>\n      <td>1.0</td>\n      <td>3.0</td>\n      <td>1.0</td>\n      <td>2.0</td>\n      <td>5.0</td>\n      <td>6.0</td>\n      <td>0.0</td>\n      <td>5.0</td>\n      <td>1.0</td>\n      <td>1959.0</td>\n      <td>1.0</td>\n      <td>1.0</td>\n      <td>312.0</td>\n      <td>4.0</td>\n      <td>4.0</td>\n      <td>2.0</td>\n      <td>0.0</td>\n      <td>0.0</td>\n      <td>0.0</td>\n      <td>0.0</td>\n      <td>0.0</td>\n      <td>0.0</td>\n      <td>3.0</td>\n      <td>2.0</td>\n      <td>4.0</td>\n      <td>0.0</td>\n      <td>8.0</td>\n      <td>2008.0</td>\n      <td>8.0</td>\n      <td>4.0</td>\n    </tr>\n    <tr>\n      <th>45</th>\n      <td>46</td>\n      <td>120.0</td>\n      <td>3.0</td>\n      <td>61.0</td>\n      <td>7658.0</td>\n      <td>1.0</td>\n      <td>2.0</td>\n      <td>3.0</td>\n      <td>3.0</td>\n      <td>0.0</td>\n      <td>4.0</td>\n      <td>0.0</td>\n      <td>16.0</td>\n      <td>2.0</td>\n      <td>2.0</td>\n      <td>4.0</td>\n      <td>2.0</td>\n      <td>9.0</td>\n      <td>5.0</td>\n      <td>2005.0</td>\n      <td>2005.0</td>\n      <td>3.0</td>\n      <td>1.0</td>\n      <td>8.0</td>\n      <td>8.0</td>\n      <td>1.0</td>\n      <td>412.0</td>\n      <td>0.0</td>\n      <td>4.0</td>\n      <td>2.0</td>\n      <td>0.0</td>\n      <td>3.0</td>\n      <td>3.0</td>\n      <td>2.0</td>\n      <td>456.0</td>\n      <td>5.0</td>\n      <td>0.0</td>\n      <td>1296.0</td>\n      <td>1752.0</td>\n      <td>1.0</td>\n      <td>0.0</td>\n      <td>1.0</td>\n      <td>4.0</td>\n      <td>1752.0</td>\n      <td>0.0</td>\n      <td>0.0</td>\n      <td>1752.0</td>\n      <td>1.0</td>\n      <td>0.0</td>\n      <td>2.0</td>\n      <td>0.0</td>\n      <td>2.0</td>\n      <td>1.0</td>\n      <td>0.0</td>\n      <td>6.0</td>\n      <td>6.0</td>\n      <td>1.0</td>\n      <td>2.0</td>\n      <td>1.0</td>\n      <td>2005.0</td>\n      <td>1.0</td>\n      <td>2.0</td>\n      <td>576.0</td>\n      <td>4.0</td>\n      <td>4.0</td>\n      <td>2.0</td>\n      <td>196.0</td>\n      <td>82.0</td>\n      <td>0.0</td>\n      <td>0.0</td>\n      <td>0.0</td>\n      <td>0.0</td>\n      <td>3.0</td>\n      <td>4.0</td>\n      <td>4.0</td>\n      <td>0.0</td>\n      <td>2.0</td>\n      <td>2010.0</td>\n      <td>8.0</td>\n      <td>4.0</td>\n    </tr>\n    <tr>\n      <th>1348</th>\n      <td>1349</td>\n      <td>20.0</td>\n      <td>3.0</td>\n      <td>-1.0</td>\n      <td>16196.0</td>\n      <td>1.0</td>\n      <td>2.0</td>\n      <td>2.0</td>\n      <td>2.0</td>\n      <td>0.0</td>\n      <td>4.0</td>\n      <td>0.0</td>\n      <td>20.0</td>\n      <td>2.0</td>\n      <td>2.0</td>\n      <td>0.0</td>\n      <td>2.0</td>\n      <td>7.0</td>\n      <td>5.0</td>\n      <td>1998.0</td>\n      <td>1998.0</td>\n      <td>1.0</td>\n      <td>1.0</td>\n      <td>12.0</td>\n      <td>13.0</td>\n      <td>2.0</td>\n      <td>0.0</td>\n      <td>2.0</td>\n      <td>4.0</td>\n      <td>2.0</td>\n      <td>2.0</td>\n      <td>3.0</td>\n      <td>1.0</td>\n      <td>2.0</td>\n      <td>1443.0</td>\n      <td>5.0</td>\n      <td>0.0</td>\n      <td>39.0</td>\n      <td>1482.0</td>\n      <td>1.0</td>\n      <td>0.0</td>\n      <td>1.0</td>\n      <td>4.0</td>\n      <td>1494.0</td>\n      <td>0.0</td>\n      <td>0.0</td>\n      <td>1494.0</td>\n      <td>1.0</td>\n      <td>0.0</td>\n      <td>2.0</td>\n      <td>0.0</td>\n      <td>3.0</td>\n      <td>1.0</td>\n      <td>2.0</td>\n      <td>5.0</td>\n      <td>6.0</td>\n      <td>1.0</td>\n      <td>1.0</td>\n      <td>1.0</td>\n      <td>1998.0</td>\n      <td>1.0</td>\n      <td>2.0</td>\n      <td>514.0</td>\n      <td>4.0</td>\n      <td>4.0</td>\n      <td>2.0</td>\n      <td>402.0</td>\n      <td>25.0</td>\n      <td>0.0</td>\n      <td>0.0</td>\n      <td>0.0</td>\n      <td>0.0</td>\n      <td>3.0</td>\n      <td>4.0</td>\n      <td>4.0</td>\n      <td>0.0</td>\n      <td>8.0</td>\n      <td>2007.0</td>\n      <td>8.0</td>\n      <td>4.0</td>\n    </tr>\n    <tr>\n      <th>55</th>\n      <td>56</td>\n      <td>20.0</td>\n      <td>3.0</td>\n      <td>100.0</td>\n      <td>10175.0</td>\n      <td>1.0</td>\n      <td>2.0</td>\n      <td>0.0</td>\n      <td>3.0</td>\n      <td>0.0</td>\n      <td>4.0</td>\n      <td>0.0</td>\n      <td>12.0</td>\n      <td>2.0</td>\n      <td>2.0</td>\n      <td>0.0</td>\n      <td>2.0</td>\n      <td>6.0</td>\n      <td>5.0</td>\n      <td>1964.0</td>\n      <td>1964.0</td>\n      <td>1.0</td>\n      <td>1.0</td>\n      <td>6.0</td>\n      <td>10.0</td>\n      <td>1.0</td>\n      <td>272.0</td>\n      <td>3.0</td>\n      <td>4.0</td>\n      <td>1.0</td>\n      <td>3.0</td>\n      <td>3.0</td>\n      <td>3.0</td>\n      <td>1.0</td>\n      <td>490.0</td>\n      <td>5.0</td>\n      <td>0.0</td>\n      <td>935.0</td>\n      <td>1425.0</td>\n      <td>1.0</td>\n      <td>2.0</td>\n      <td>1.0</td>\n      <td>4.0</td>\n      <td>1425.0</td>\n      <td>0.0</td>\n      <td>0.0</td>\n      <td>1425.0</td>\n      <td>0.0</td>\n      <td>0.0</td>\n      <td>2.0</td>\n      <td>0.0</td>\n      <td>3.0</td>\n      <td>1.0</td>\n      <td>3.0</td>\n      <td>7.0</td>\n      <td>6.0</td>\n      <td>1.0</td>\n      <td>2.0</td>\n      <td>1.0</td>\n      <td>1964.0</td>\n      <td>1.0</td>\n      <td>2.0</td>\n      <td>576.0</td>\n      <td>4.0</td>\n      <td>4.0</td>\n      <td>2.0</td>\n      <td>0.0</td>\n      <td>0.0</td>\n      <td>0.0</td>\n      <td>407.0</td>\n      <td>0.0</td>\n      <td>0.0</td>\n      <td>3.0</td>\n      <td>4.0</td>\n      <td>4.0</td>\n      <td>0.0</td>\n      <td>7.0</td>\n      <td>2008.0</td>\n      <td>8.0</td>\n      <td>4.0</td>\n    </tr>\n  </tbody>\n</table>\n</div>"
     },
     "execution_count": 31,
     "metadata": {},
     "output_type": "execute_result"
    }
   ],
   "source": [
    "X_train.head()"
   ]
  },
  {
   "cell_type": "markdown",
   "metadata": {},
   "source": [
    "## Gradient boosting regressor"
   ]
  },
  {
   "cell_type": "code",
   "execution_count": 32,
   "metadata": {},
   "outputs": [
    {
     "data": {
      "text/plain": "GradientBoostingRegressor(n_estimators=50, random_state=0)",
      "text/html": "<style>#sk-container-id-1 {color: black;background-color: white;}#sk-container-id-1 pre{padding: 0;}#sk-container-id-1 div.sk-toggleable {background-color: white;}#sk-container-id-1 label.sk-toggleable__label {cursor: pointer;display: block;width: 100%;margin-bottom: 0;padding: 0.3em;box-sizing: border-box;text-align: center;}#sk-container-id-1 label.sk-toggleable__label-arrow:before {content: \"▸\";float: left;margin-right: 0.25em;color: #696969;}#sk-container-id-1 label.sk-toggleable__label-arrow:hover:before {color: black;}#sk-container-id-1 div.sk-estimator:hover label.sk-toggleable__label-arrow:before {color: black;}#sk-container-id-1 div.sk-toggleable__content {max-height: 0;max-width: 0;overflow: hidden;text-align: left;background-color: #f0f8ff;}#sk-container-id-1 div.sk-toggleable__content pre {margin: 0.2em;color: black;border-radius: 0.25em;background-color: #f0f8ff;}#sk-container-id-1 input.sk-toggleable__control:checked~div.sk-toggleable__content {max-height: 200px;max-width: 100%;overflow: auto;}#sk-container-id-1 input.sk-toggleable__control:checked~label.sk-toggleable__label-arrow:before {content: \"▾\";}#sk-container-id-1 div.sk-estimator input.sk-toggleable__control:checked~label.sk-toggleable__label {background-color: #d4ebff;}#sk-container-id-1 div.sk-label input.sk-toggleable__control:checked~label.sk-toggleable__label {background-color: #d4ebff;}#sk-container-id-1 input.sk-hidden--visually {border: 0;clip: rect(1px 1px 1px 1px);clip: rect(1px, 1px, 1px, 1px);height: 1px;margin: -1px;overflow: hidden;padding: 0;position: absolute;width: 1px;}#sk-container-id-1 div.sk-estimator {font-family: monospace;background-color: #f0f8ff;border: 1px dotted black;border-radius: 0.25em;box-sizing: border-box;margin-bottom: 0.5em;}#sk-container-id-1 div.sk-estimator:hover {background-color: #d4ebff;}#sk-container-id-1 div.sk-parallel-item::after {content: \"\";width: 100%;border-bottom: 1px solid gray;flex-grow: 1;}#sk-container-id-1 div.sk-label:hover label.sk-toggleable__label {background-color: #d4ebff;}#sk-container-id-1 div.sk-serial::before {content: \"\";position: absolute;border-left: 1px solid gray;box-sizing: border-box;top: 0;bottom: 0;left: 50%;z-index: 0;}#sk-container-id-1 div.sk-serial {display: flex;flex-direction: column;align-items: center;background-color: white;padding-right: 0.2em;padding-left: 0.2em;position: relative;}#sk-container-id-1 div.sk-item {position: relative;z-index: 1;}#sk-container-id-1 div.sk-parallel {display: flex;align-items: stretch;justify-content: center;background-color: white;position: relative;}#sk-container-id-1 div.sk-item::before, #sk-container-id-1 div.sk-parallel-item::before {content: \"\";position: absolute;border-left: 1px solid gray;box-sizing: border-box;top: 0;bottom: 0;left: 50%;z-index: -1;}#sk-container-id-1 div.sk-parallel-item {display: flex;flex-direction: column;z-index: 1;position: relative;background-color: white;}#sk-container-id-1 div.sk-parallel-item:first-child::after {align-self: flex-end;width: 50%;}#sk-container-id-1 div.sk-parallel-item:last-child::after {align-self: flex-start;width: 50%;}#sk-container-id-1 div.sk-parallel-item:only-child::after {width: 0;}#sk-container-id-1 div.sk-dashed-wrapped {border: 1px dashed gray;margin: 0 0.4em 0.5em 0.4em;box-sizing: border-box;padding-bottom: 0.4em;background-color: white;}#sk-container-id-1 div.sk-label label {font-family: monospace;font-weight: bold;display: inline-block;line-height: 1.2em;}#sk-container-id-1 div.sk-label-container {text-align: center;}#sk-container-id-1 div.sk-container {/* jupyter's `normalize.less` sets `[hidden] { display: none; }` but bootstrap.min.css set `[hidden] { display: none !important; }` so we also need the `!important` here to be able to override the default hidden behavior on the sphinx rendered scikit-learn.org. See: https://github.com/scikit-learn/scikit-learn/issues/21755 */display: inline-block !important;position: relative;}#sk-container-id-1 div.sk-text-repr-fallback {display: none;}</style><div id=\"sk-container-id-1\" class=\"sk-top-container\"><div class=\"sk-text-repr-fallback\"><pre>GradientBoostingRegressor(n_estimators=50, random_state=0)</pre><b>In a Jupyter environment, please rerun this cell to show the HTML representation or trust the notebook. <br />On GitHub, the HTML representation is unable to render, please try loading this page with nbviewer.org.</b></div><div class=\"sk-container\" hidden><div class=\"sk-item\"><div class=\"sk-estimator sk-toggleable\"><input class=\"sk-toggleable__control sk-hidden--visually\" id=\"sk-estimator-id-1\" type=\"checkbox\" checked><label for=\"sk-estimator-id-1\" class=\"sk-toggleable__label sk-toggleable__label-arrow\">GradientBoostingRegressor</label><div class=\"sk-toggleable__content\"><pre>GradientBoostingRegressor(n_estimators=50, random_state=0)</pre></div></div></div></div></div>"
     },
     "execution_count": 32,
     "metadata": {},
     "output_type": "execute_result"
    }
   ],
   "source": [
    "tree_reg = GradientBoostingRegressor(random_state=0, n_estimators=50)\n",
    "tree_reg.fit(X_train, y_train)"
   ]
  },
  {
   "cell_type": "code",
   "execution_count": 33,
   "metadata": {},
   "outputs": [
    {
     "name": "stdout",
     "output_type": "stream",
     "text": [
      "linear train mse: 326722294.3343705\n",
      "linear train rmse: 18075.461109868553\n",
      "\n"
     ]
    },
    {
     "ename": "ValueError",
     "evalue": "could not convert string to float: 'RL'",
     "output_type": "error",
     "traceback": [
      "\u001B[0;31m---------------------------------------------------------------------------\u001B[0m",
      "\u001B[0;31mValueError\u001B[0m                                Traceback (most recent call last)",
      "Cell \u001B[0;32mIn[33], line 10\u001B[0m\n\u001B[1;32m      8\u001B[0m \u001B[38;5;28mprint\u001B[39m(\u001B[38;5;124m'\u001B[39m\u001B[38;5;124mlinear train rmse: \u001B[39m\u001B[38;5;132;01m{}\u001B[39;00m\u001B[38;5;124m'\u001B[39m\u001B[38;5;241m.\u001B[39mformat(sqrt(mean_squared_error(y_train, pred))))\n\u001B[1;32m      9\u001B[0m \u001B[38;5;28mprint\u001B[39m()\n\u001B[0;32m---> 10\u001B[0m pred \u001B[38;5;241m=\u001B[39m \u001B[43mtree_reg\u001B[49m\u001B[38;5;241;43m.\u001B[39;49m\u001B[43mpredict\u001B[49m\u001B[43m(\u001B[49m\u001B[43mX_test\u001B[49m\u001B[43m)\u001B[49m\n\u001B[1;32m     11\u001B[0m \u001B[38;5;28mprint\u001B[39m(\u001B[38;5;124m'\u001B[39m\u001B[38;5;124mlinear test mse: \u001B[39m\u001B[38;5;132;01m{}\u001B[39;00m\u001B[38;5;124m'\u001B[39m\u001B[38;5;241m.\u001B[39mformat(mean_squared_error(y_test, pred)))\n\u001B[1;32m     12\u001B[0m \u001B[38;5;28mprint\u001B[39m(\u001B[38;5;124m'\u001B[39m\u001B[38;5;124mlinear test rmse: \u001B[39m\u001B[38;5;132;01m{}\u001B[39;00m\u001B[38;5;124m'\u001B[39m\u001B[38;5;241m.\u001B[39mformat(sqrt(mean_squared_error(y_test, pred))))\n",
      "File \u001B[0;32m/usr/local/lib/python3.9/site-packages/sklearn/ensemble/_gb.py:1798\u001B[0m, in \u001B[0;36mpredict\u001B[0;34m(self, X)\u001B[0m\n\u001B[1;32m   1787\u001B[0m \u001B[38;5;66;03m# TODO: remove \"ls\" in version 1.2\u001B[39;00m\n\u001B[1;32m   1788\u001B[0m _SUPPORTED_LOSS \u001B[38;5;241m=\u001B[39m (\n\u001B[1;32m   1789\u001B[0m     \u001B[38;5;124m\"\u001B[39m\u001B[38;5;124msquared_error\u001B[39m\u001B[38;5;124m\"\u001B[39m,\n\u001B[1;32m   1790\u001B[0m     \u001B[38;5;124m\"\u001B[39m\u001B[38;5;124mls\u001B[39m\u001B[38;5;124m\"\u001B[39m,\n\u001B[0;32m   (...)\u001B[0m\n\u001B[1;32m   1794\u001B[0m     \u001B[38;5;124m\"\u001B[39m\u001B[38;5;124mquantile\u001B[39m\u001B[38;5;124m\"\u001B[39m,\n\u001B[1;32m   1795\u001B[0m )\n\u001B[1;32m   1797\u001B[0m \u001B[38;5;28;01mdef\u001B[39;00m \u001B[38;5;21m__init__\u001B[39m(\n\u001B[0;32m-> 1798\u001B[0m     \u001B[38;5;28mself\u001B[39m,\n\u001B[1;32m   1799\u001B[0m     \u001B[38;5;241m*\u001B[39m,\n\u001B[1;32m   1800\u001B[0m     loss\u001B[38;5;241m=\u001B[39m\u001B[38;5;124m\"\u001B[39m\u001B[38;5;124msquared_error\u001B[39m\u001B[38;5;124m\"\u001B[39m,\n\u001B[1;32m   1801\u001B[0m     learning_rate\u001B[38;5;241m=\u001B[39m\u001B[38;5;241m0.1\u001B[39m,\n\u001B[1;32m   1802\u001B[0m     n_estimators\u001B[38;5;241m=\u001B[39m\u001B[38;5;241m100\u001B[39m,\n\u001B[1;32m   1803\u001B[0m     subsample\u001B[38;5;241m=\u001B[39m\u001B[38;5;241m1.0\u001B[39m,\n\u001B[1;32m   1804\u001B[0m     criterion\u001B[38;5;241m=\u001B[39m\u001B[38;5;124m\"\u001B[39m\u001B[38;5;124mfriedman_mse\u001B[39m\u001B[38;5;124m\"\u001B[39m,\n\u001B[1;32m   1805\u001B[0m     min_samples_split\u001B[38;5;241m=\u001B[39m\u001B[38;5;241m2\u001B[39m,\n\u001B[1;32m   1806\u001B[0m     min_samples_leaf\u001B[38;5;241m=\u001B[39m\u001B[38;5;241m1\u001B[39m,\n\u001B[1;32m   1807\u001B[0m     min_weight_fraction_leaf\u001B[38;5;241m=\u001B[39m\u001B[38;5;241m0.0\u001B[39m,\n\u001B[1;32m   1808\u001B[0m     max_depth\u001B[38;5;241m=\u001B[39m\u001B[38;5;241m3\u001B[39m,\n\u001B[1;32m   1809\u001B[0m     min_impurity_decrease\u001B[38;5;241m=\u001B[39m\u001B[38;5;241m0.0\u001B[39m,\n\u001B[1;32m   1810\u001B[0m     init\u001B[38;5;241m=\u001B[39m\u001B[38;5;28;01mNone\u001B[39;00m,\n\u001B[1;32m   1811\u001B[0m     random_state\u001B[38;5;241m=\u001B[39m\u001B[38;5;28;01mNone\u001B[39;00m,\n\u001B[1;32m   1812\u001B[0m     max_features\u001B[38;5;241m=\u001B[39m\u001B[38;5;28;01mNone\u001B[39;00m,\n\u001B[1;32m   1813\u001B[0m     alpha\u001B[38;5;241m=\u001B[39m\u001B[38;5;241m0.9\u001B[39m,\n\u001B[1;32m   1814\u001B[0m     verbose\u001B[38;5;241m=\u001B[39m\u001B[38;5;241m0\u001B[39m,\n\u001B[1;32m   1815\u001B[0m     max_leaf_nodes\u001B[38;5;241m=\u001B[39m\u001B[38;5;28;01mNone\u001B[39;00m,\n\u001B[1;32m   1816\u001B[0m     warm_start\u001B[38;5;241m=\u001B[39m\u001B[38;5;28;01mFalse\u001B[39;00m,\n\u001B[1;32m   1817\u001B[0m     validation_fraction\u001B[38;5;241m=\u001B[39m\u001B[38;5;241m0.1\u001B[39m,\n\u001B[1;32m   1818\u001B[0m     n_iter_no_change\u001B[38;5;241m=\u001B[39m\u001B[38;5;28;01mNone\u001B[39;00m,\n\u001B[1;32m   1819\u001B[0m     tol\u001B[38;5;241m=\u001B[39m\u001B[38;5;241m1e-4\u001B[39m,\n\u001B[1;32m   1820\u001B[0m     ccp_alpha\u001B[38;5;241m=\u001B[39m\u001B[38;5;241m0.0\u001B[39m,\n\u001B[1;32m   1821\u001B[0m ):\n\u001B[1;32m   1823\u001B[0m     \u001B[38;5;28msuper\u001B[39m()\u001B[38;5;241m.\u001B[39m\u001B[38;5;21m__init__\u001B[39m(\n\u001B[1;32m   1824\u001B[0m         loss\u001B[38;5;241m=\u001B[39mloss,\n\u001B[1;32m   1825\u001B[0m         learning_rate\u001B[38;5;241m=\u001B[39mlearning_rate,\n\u001B[0;32m   (...)\u001B[0m\n\u001B[1;32m   1844\u001B[0m         ccp_alpha\u001B[38;5;241m=\u001B[39mccp_alpha,\n\u001B[1;32m   1845\u001B[0m     )\n\u001B[1;32m   1847\u001B[0m \u001B[38;5;28;01mdef\u001B[39;00m \u001B[38;5;21m_validate_y\u001B[39m(\u001B[38;5;28mself\u001B[39m, y, sample_weight\u001B[38;5;241m=\u001B[39m\u001B[38;5;28;01mNone\u001B[39;00m):\n",
      "File \u001B[0;32m/usr/local/lib/python3.9/site-packages/sklearn/base.py:565\u001B[0m, in \u001B[0;36m_validate_data\u001B[0;34m(self, X, y, reset, validate_separately, **check_params)\u001B[0m\n\u001B[1;32m    563\u001B[0m \u001B[38;5;28;01mif\u001B[39;00m no_val_X \u001B[38;5;129;01mand\u001B[39;00m no_val_y:\n\u001B[1;32m    564\u001B[0m     \u001B[38;5;28;01mraise\u001B[39;00m \u001B[38;5;167;01mValueError\u001B[39;00m(\u001B[38;5;124m\"\u001B[39m\u001B[38;5;124mValidation should be done on X, y or both.\u001B[39m\u001B[38;5;124m\"\u001B[39m)\n\u001B[0;32m--> 565\u001B[0m \u001B[38;5;28;01melif\u001B[39;00m \u001B[38;5;129;01mnot\u001B[39;00m no_val_X \u001B[38;5;129;01mand\u001B[39;00m no_val_y:\n\u001B[1;32m    566\u001B[0m     X \u001B[38;5;241m=\u001B[39m check_array(X, \u001B[38;5;241m*\u001B[39m\u001B[38;5;241m*\u001B[39mcheck_params)\n\u001B[1;32m    567\u001B[0m     out \u001B[38;5;241m=\u001B[39m X\n",
      "File \u001B[0;32m/usr/local/lib/python3.9/site-packages/sklearn/utils/validation.py:879\u001B[0m, in \u001B[0;36mcheck_array\u001B[0;34m(array, accept_sparse, accept_large_sparse, dtype, order, copy, force_all_finite, ensure_2d, allow_nd, ensure_min_samples, ensure_min_features, estimator, input_name)\u001B[0m\n\u001B[1;32m    845\u001B[0m \u001B[38;5;28;01mdef\u001B[39;00m \u001B[38;5;21mcheck_X_y\u001B[39m(\n\u001B[1;32m    846\u001B[0m     X,\n\u001B[1;32m    847\u001B[0m     y,\n\u001B[0;32m   (...)\u001B[0m\n\u001B[1;32m    861\u001B[0m     estimator\u001B[38;5;241m=\u001B[39m\u001B[38;5;28;01mNone\u001B[39;00m,\n\u001B[1;32m    862\u001B[0m ):\n\u001B[1;32m    863\u001B[0m     \u001B[38;5;124;03m\"\"\"Input validation for standard estimators.\u001B[39;00m\n\u001B[1;32m    864\u001B[0m \n\u001B[1;32m    865\u001B[0m \u001B[38;5;124;03m    Checks X and y for consistent length, enforces X to be 2D and y 1D. By\u001B[39;00m\n\u001B[1;32m    866\u001B[0m \u001B[38;5;124;03m    default, X is checked to be non-empty and containing only finite values.\u001B[39;00m\n\u001B[1;32m    867\u001B[0m \u001B[38;5;124;03m    Standard input checks are also applied to y, such as checking that y\u001B[39;00m\n\u001B[1;32m    868\u001B[0m \u001B[38;5;124;03m    does not have np.nan or np.inf targets. For multi-label y, set\u001B[39;00m\n\u001B[1;32m    869\u001B[0m \u001B[38;5;124;03m    multi_output=True to allow 2D and sparse y. If the dtype of X is\u001B[39;00m\n\u001B[1;32m    870\u001B[0m \u001B[38;5;124;03m    object, attempt converting to float, raising on failure.\u001B[39;00m\n\u001B[1;32m    871\u001B[0m \n\u001B[1;32m    872\u001B[0m \u001B[38;5;124;03m    Parameters\u001B[39;00m\n\u001B[1;32m    873\u001B[0m \u001B[38;5;124;03m    ----------\u001B[39;00m\n\u001B[1;32m    874\u001B[0m \u001B[38;5;124;03m    X : {ndarray, list, sparse matrix}\u001B[39;00m\n\u001B[1;32m    875\u001B[0m \u001B[38;5;124;03m        Input data.\u001B[39;00m\n\u001B[1;32m    876\u001B[0m \n\u001B[1;32m    877\u001B[0m \u001B[38;5;124;03m    y : {ndarray, list, sparse matrix}\u001B[39;00m\n\u001B[1;32m    878\u001B[0m \u001B[38;5;124;03m        Labels.\u001B[39;00m\n\u001B[0;32m--> 879\u001B[0m \n\u001B[1;32m    880\u001B[0m \u001B[38;5;124;03m    accept_sparse : str, bool or list of str, default=False\u001B[39;00m\n\u001B[1;32m    881\u001B[0m \u001B[38;5;124;03m        String[s] representing allowed sparse matrix formats, such as 'csc',\u001B[39;00m\n\u001B[1;32m    882\u001B[0m \u001B[38;5;124;03m        'csr', etc. If the input is sparse but not in the allowed format,\u001B[39;00m\n\u001B[1;32m    883\u001B[0m \u001B[38;5;124;03m        it will be converted to the first listed format. True allows the input\u001B[39;00m\n\u001B[1;32m    884\u001B[0m \u001B[38;5;124;03m        to be any format. False means that a sparse matrix input will\u001B[39;00m\n\u001B[1;32m    885\u001B[0m \u001B[38;5;124;03m        raise an error.\u001B[39;00m\n\u001B[1;32m    886\u001B[0m \n\u001B[1;32m    887\u001B[0m \u001B[38;5;124;03m    accept_large_sparse : bool, default=True\u001B[39;00m\n\u001B[1;32m    888\u001B[0m \u001B[38;5;124;03m        If a CSR, CSC, COO or BSR sparse matrix is supplied and accepted by\u001B[39;00m\n\u001B[1;32m    889\u001B[0m \u001B[38;5;124;03m        accept_sparse, accept_large_sparse will cause it to be accepted only\u001B[39;00m\n\u001B[1;32m    890\u001B[0m \u001B[38;5;124;03m        if its indices are stored with a 32-bit dtype.\u001B[39;00m\n\u001B[1;32m    891\u001B[0m \n\u001B[1;32m    892\u001B[0m \u001B[38;5;124;03m        .. versionadded:: 0.20\u001B[39;00m\n\u001B[1;32m    893\u001B[0m \n\u001B[1;32m    894\u001B[0m \u001B[38;5;124;03m    dtype : 'numeric', type, list of type or None, default='numeric'\u001B[39;00m\n\u001B[1;32m    895\u001B[0m \u001B[38;5;124;03m        Data type of result. If None, the dtype of the input is preserved.\u001B[39;00m\n\u001B[1;32m    896\u001B[0m \u001B[38;5;124;03m        If \"numeric\", dtype is preserved unless array.dtype is object.\u001B[39;00m\n\u001B[1;32m    897\u001B[0m \u001B[38;5;124;03m        If dtype is a list of types, conversion on the first type is only\u001B[39;00m\n\u001B[1;32m    898\u001B[0m \u001B[38;5;124;03m        performed if the dtype of the input is not in the list.\u001B[39;00m\n\u001B[1;32m    899\u001B[0m \n\u001B[1;32m    900\u001B[0m \u001B[38;5;124;03m    order : {'F', 'C'}, default=None\u001B[39;00m\n\u001B[1;32m    901\u001B[0m \u001B[38;5;124;03m        Whether an array will be forced to be fortran or c-style.\u001B[39;00m\n\u001B[1;32m    902\u001B[0m \n\u001B[1;32m    903\u001B[0m \u001B[38;5;124;03m    copy : bool, default=False\u001B[39;00m\n\u001B[1;32m    904\u001B[0m \u001B[38;5;124;03m        Whether a forced copy will be triggered. If copy=False, a copy might\u001B[39;00m\n\u001B[1;32m    905\u001B[0m \u001B[38;5;124;03m        be triggered by a conversion.\u001B[39;00m\n\u001B[1;32m    906\u001B[0m \n\u001B[1;32m    907\u001B[0m \u001B[38;5;124;03m    force_all_finite : bool or 'allow-nan', default=True\u001B[39;00m\n\u001B[1;32m    908\u001B[0m \u001B[38;5;124;03m        Whether to raise an error on np.inf, np.nan, pd.NA in X. This parameter\u001B[39;00m\n\u001B[1;32m    909\u001B[0m \u001B[38;5;124;03m        does not influence whether y can have np.inf, np.nan, pd.NA values.\u001B[39;00m\n\u001B[1;32m    910\u001B[0m \u001B[38;5;124;03m        The possibilities are:\u001B[39;00m\n\u001B[1;32m    911\u001B[0m \n\u001B[1;32m    912\u001B[0m \u001B[38;5;124;03m        - True: Force all values of X to be finite.\u001B[39;00m\n\u001B[1;32m    913\u001B[0m \u001B[38;5;124;03m        - False: accepts np.inf, np.nan, pd.NA in X.\u001B[39;00m\n\u001B[1;32m    914\u001B[0m \u001B[38;5;124;03m        - 'allow-nan': accepts only np.nan or pd.NA values in X. Values cannot\u001B[39;00m\n\u001B[1;32m    915\u001B[0m \u001B[38;5;124;03m          be infinite.\u001B[39;00m\n\u001B[1;32m    916\u001B[0m \n\u001B[1;32m    917\u001B[0m \u001B[38;5;124;03m        .. versionadded:: 0.20\u001B[39;00m\n\u001B[1;32m    918\u001B[0m \u001B[38;5;124;03m           ``force_all_finite`` accepts the string ``'allow-nan'``.\u001B[39;00m\n\u001B[1;32m    919\u001B[0m \n\u001B[1;32m    920\u001B[0m \u001B[38;5;124;03m        .. versionchanged:: 0.23\u001B[39;00m\n\u001B[1;32m    921\u001B[0m \u001B[38;5;124;03m           Accepts `pd.NA` and converts it into `np.nan`\u001B[39;00m\n\u001B[1;32m    922\u001B[0m \n\u001B[1;32m    923\u001B[0m \u001B[38;5;124;03m    ensure_2d : bool, default=True\u001B[39;00m\n\u001B[1;32m    924\u001B[0m \u001B[38;5;124;03m        Whether to raise a value error if X is not 2D.\u001B[39;00m\n\u001B[1;32m    925\u001B[0m \n\u001B[1;32m    926\u001B[0m \u001B[38;5;124;03m    allow_nd : bool, default=False\u001B[39;00m\n\u001B[1;32m    927\u001B[0m \u001B[38;5;124;03m        Whether to allow X.ndim > 2.\u001B[39;00m\n\u001B[1;32m    928\u001B[0m \n\u001B[1;32m    929\u001B[0m \u001B[38;5;124;03m    multi_output : bool, default=False\u001B[39;00m\n\u001B[1;32m    930\u001B[0m \u001B[38;5;124;03m        Whether to allow 2D y (array or sparse matrix). If false, y will be\u001B[39;00m\n\u001B[1;32m    931\u001B[0m \u001B[38;5;124;03m        validated as a vector. y cannot have np.nan or np.inf values if\u001B[39;00m\n\u001B[1;32m    932\u001B[0m \u001B[38;5;124;03m        multi_output=True.\u001B[39;00m\n\u001B[1;32m    933\u001B[0m \n\u001B[1;32m    934\u001B[0m \u001B[38;5;124;03m    ensure_min_samples : int, default=1\u001B[39;00m\n\u001B[1;32m    935\u001B[0m \u001B[38;5;124;03m        Make sure that X has a minimum number of samples in its first\u001B[39;00m\n\u001B[1;32m    936\u001B[0m \u001B[38;5;124;03m        axis (rows for a 2D array).\u001B[39;00m\n\u001B[1;32m    937\u001B[0m \n\u001B[1;32m    938\u001B[0m \u001B[38;5;124;03m    ensure_min_features : int, default=1\u001B[39;00m\n\u001B[1;32m    939\u001B[0m \u001B[38;5;124;03m        Make sure that the 2D array has some minimum number of features\u001B[39;00m\n\u001B[1;32m    940\u001B[0m \u001B[38;5;124;03m        (columns). The default value of 1 rejects empty datasets.\u001B[39;00m\n\u001B[1;32m    941\u001B[0m \u001B[38;5;124;03m        This check is only enforced when X has effectively 2 dimensions or\u001B[39;00m\n\u001B[1;32m    942\u001B[0m \u001B[38;5;124;03m        is originally 1D and ``ensure_2d`` is True. Setting to 0 disables\u001B[39;00m\n\u001B[1;32m    943\u001B[0m \u001B[38;5;124;03m        this check.\u001B[39;00m\n\u001B[1;32m    944\u001B[0m \n\u001B[1;32m    945\u001B[0m \u001B[38;5;124;03m    y_numeric : bool, default=False\u001B[39;00m\n\u001B[1;32m    946\u001B[0m \u001B[38;5;124;03m        Whether to ensure that y has a numeric type. If dtype of y is object,\u001B[39;00m\n\u001B[1;32m    947\u001B[0m \u001B[38;5;124;03m        it is converted to float64. Should only be used for regression\u001B[39;00m\n\u001B[1;32m    948\u001B[0m \u001B[38;5;124;03m        algorithms.\u001B[39;00m\n\u001B[1;32m    949\u001B[0m \n\u001B[1;32m    950\u001B[0m \u001B[38;5;124;03m    estimator : str or estimator instance, default=None\u001B[39;00m\n\u001B[1;32m    951\u001B[0m \u001B[38;5;124;03m        If passed, include the name of the estimator in warning messages.\u001B[39;00m\n\u001B[1;32m    952\u001B[0m \n\u001B[1;32m    953\u001B[0m \u001B[38;5;124;03m    Returns\u001B[39;00m\n\u001B[1;32m    954\u001B[0m \u001B[38;5;124;03m    -------\u001B[39;00m\n\u001B[1;32m    955\u001B[0m \u001B[38;5;124;03m    X_converted : object\u001B[39;00m\n\u001B[1;32m    956\u001B[0m \u001B[38;5;124;03m        The converted and validated X.\u001B[39;00m\n\u001B[1;32m    957\u001B[0m \n\u001B[1;32m    958\u001B[0m \u001B[38;5;124;03m    y_converted : object\u001B[39;00m\n\u001B[1;32m    959\u001B[0m \u001B[38;5;124;03m        The converted and validated y.\u001B[39;00m\n\u001B[1;32m    960\u001B[0m \u001B[38;5;124;03m    \"\"\"\u001B[39;00m\n\u001B[1;32m    961\u001B[0m     \u001B[38;5;28;01mif\u001B[39;00m y \u001B[38;5;129;01mis\u001B[39;00m \u001B[38;5;28;01mNone\u001B[39;00m:\n\u001B[1;32m    962\u001B[0m         \u001B[38;5;28;01mraise\u001B[39;00m \u001B[38;5;167;01mValueError\u001B[39;00m(\u001B[38;5;124m\"\u001B[39m\u001B[38;5;124my cannot be None\u001B[39m\u001B[38;5;124m\"\u001B[39m)\n",
      "File \u001B[0;32m/usr/local/lib/python3.9/site-packages/sklearn/utils/_array_api.py:185\u001B[0m, in \u001B[0;36m_asarray_with_order\u001B[0;34m(array, dtype, order, copy, xp)\u001B[0m\n",
      "File \u001B[0;32m/usr/local/lib/python3.9/site-packages/numpy/core/_asarray.py:102\u001B[0m, in \u001B[0;36masarray\u001B[0;34m(a, dtype, order, like)\u001B[0m\n\u001B[1;32m     99\u001B[0m \u001B[38;5;28;01mif\u001B[39;00m like \u001B[38;5;129;01mis\u001B[39;00m \u001B[38;5;129;01mnot\u001B[39;00m \u001B[38;5;28;01mNone\u001B[39;00m:\n\u001B[1;32m    100\u001B[0m     \u001B[38;5;28;01mreturn\u001B[39;00m _asarray_with_like(a, dtype\u001B[38;5;241m=\u001B[39mdtype, order\u001B[38;5;241m=\u001B[39morder, like\u001B[38;5;241m=\u001B[39mlike)\n\u001B[0;32m--> 102\u001B[0m \u001B[38;5;28;01mreturn\u001B[39;00m \u001B[43marray\u001B[49m\u001B[43m(\u001B[49m\u001B[43ma\u001B[49m\u001B[43m,\u001B[49m\u001B[43m \u001B[49m\u001B[43mdtype\u001B[49m\u001B[43m,\u001B[49m\u001B[43m \u001B[49m\u001B[43mcopy\u001B[49m\u001B[38;5;241;43m=\u001B[39;49m\u001B[38;5;28;43;01mFalse\u001B[39;49;00m\u001B[43m,\u001B[49m\u001B[43m \u001B[49m\u001B[43morder\u001B[49m\u001B[38;5;241;43m=\u001B[39;49m\u001B[43morder\u001B[49m\u001B[43m)\u001B[49m\n",
      "File \u001B[0;32m/usr/local/lib/python3.9/site-packages/pandas/core/generic.py:1899\u001B[0m, in \u001B[0;36m__array__\u001B[0;34m(self, dtype)\u001B[0m\n\u001B[1;32m   1896\u001B[0m \u001B[38;5;28;01mdef\u001B[39;00m \u001B[38;5;21mkeys\u001B[39m(\u001B[38;5;28mself\u001B[39m):\n\u001B[1;32m   1897\u001B[0m     \u001B[38;5;124;03m\"\"\"\u001B[39;00m\n\u001B[1;32m   1898\u001B[0m \u001B[38;5;124;03m    Get the 'info axis' (see Indexing for more).\u001B[39;00m\n\u001B[0;32m-> 1899\u001B[0m \n\u001B[1;32m   1900\u001B[0m \u001B[38;5;124;03m    This is index for Series, columns for DataFrame.\u001B[39;00m\n\u001B[1;32m   1901\u001B[0m \n\u001B[1;32m   1902\u001B[0m \u001B[38;5;124;03m    Returns\u001B[39;00m\n\u001B[1;32m   1903\u001B[0m \u001B[38;5;124;03m    -------\u001B[39;00m\n\u001B[1;32m   1904\u001B[0m \u001B[38;5;124;03m    Index\u001B[39;00m\n\u001B[1;32m   1905\u001B[0m \u001B[38;5;124;03m        Info axis.\u001B[39;00m\n\u001B[1;32m   1906\u001B[0m \u001B[38;5;124;03m    \"\"\"\u001B[39;00m\n\u001B[1;32m   1907\u001B[0m     \u001B[38;5;28;01mreturn\u001B[39;00m \u001B[38;5;28mself\u001B[39m\u001B[38;5;241m.\u001B[39m_info_axis\n",
      "File \u001B[0;32m/usr/local/lib/python3.9/site-packages/numpy/core/_asarray.py:102\u001B[0m, in \u001B[0;36masarray\u001B[0;34m(a, dtype, order, like)\u001B[0m\n\u001B[1;32m     99\u001B[0m \u001B[38;5;28;01mif\u001B[39;00m like \u001B[38;5;129;01mis\u001B[39;00m \u001B[38;5;129;01mnot\u001B[39;00m \u001B[38;5;28;01mNone\u001B[39;00m:\n\u001B[1;32m    100\u001B[0m     \u001B[38;5;28;01mreturn\u001B[39;00m _asarray_with_like(a, dtype\u001B[38;5;241m=\u001B[39mdtype, order\u001B[38;5;241m=\u001B[39morder, like\u001B[38;5;241m=\u001B[39mlike)\n\u001B[0;32m--> 102\u001B[0m \u001B[38;5;28;01mreturn\u001B[39;00m \u001B[43marray\u001B[49m\u001B[43m(\u001B[49m\u001B[43ma\u001B[49m\u001B[43m,\u001B[49m\u001B[43m \u001B[49m\u001B[43mdtype\u001B[49m\u001B[43m,\u001B[49m\u001B[43m \u001B[49m\u001B[43mcopy\u001B[49m\u001B[38;5;241;43m=\u001B[39;49m\u001B[38;5;28;43;01mFalse\u001B[39;49;00m\u001B[43m,\u001B[49m\u001B[43m \u001B[49m\u001B[43morder\u001B[49m\u001B[38;5;241;43m=\u001B[39;49m\u001B[43morder\u001B[49m\u001B[43m)\u001B[49m\n",
      "\u001B[0;31mValueError\u001B[0m: could not convert string to float: 'RL'"
     ]
    }
   ],
   "source": [
    "# evaluate the model:\n",
    "\n",
    "# We will evaluate performance using the mean squared error and the\n",
    "# root of the mean squared error\n",
    "\n",
    "pred = tree_reg.predict(X_train)\n",
    "print('linear train mse: {}'.format(mean_squared_error(y_train, pred)))\n",
    "print('linear train rmse: {}'.format(sqrt(mean_squared_error(y_train, pred))))\n",
    "print()\n",
    "pred = tree_reg.predict(X_test)\n",
    "print('linear test mse: {}'.format(mean_squared_error(y_test, pred)))\n",
    "print('linear test rmse: {}'.format(sqrt(mean_squared_error(y_test, pred))))"
   ]
  },
  {
   "cell_type": "code",
   "execution_count": 22,
   "metadata": {},
   "outputs": [
    {
     "name": "stdout",
     "output_type": "stream",
     "text": [
      "\n",
      "Prediction analysis from old Lasso Regression:\n",
      "---------------------------------------------\n",
      "linear train mse: 1087435415.4414542\n",
      "linear train rmse: 32976.28565259366\n",
      "\n",
      "linear test mse: 1405259552.2596064\n",
      "linear test rmse: 37486.79170400698\n",
      "\n"
     ]
    }
   ],
   "source": [
    "# These are the values produced by our current live model\n",
    "# we new them from the past, so I pase them here for information\n",
    "\n",
    "print('''\n",
    "Prediction analysis from old Lasso Regression:\n",
    "---------------------------------------------\n",
    "linear train mse: 1087435415.4414542\n",
    "linear train rmse: 32976.28565259366\n",
    "\n",
    "linear test mse: 1405259552.2596064\n",
    "linear test rmse: 37486.79170400698\n",
    "''')"
   ]
  },
  {
   "cell_type": "code",
   "execution_count": 34,
   "metadata": {},
   "outputs": [
    {
     "ename": "ValueError",
     "evalue": "could not convert string to float: 'RL'",
     "output_type": "error",
     "traceback": [
      "\u001B[0;31m---------------------------------------------------------------------------\u001B[0m",
      "\u001B[0;31mValueError\u001B[0m                                Traceback (most recent call last)",
      "Cell \u001B[0;32mIn[34], line 3\u001B[0m\n\u001B[1;32m      1\u001B[0m \u001B[38;5;66;03m# let's evaluate our predictions respect to the original price\u001B[39;00m\n\u001B[0;32m----> 3\u001B[0m plt\u001B[38;5;241m.\u001B[39mscatter(y_test, \u001B[43mtree_reg\u001B[49m\u001B[38;5;241;43m.\u001B[39;49m\u001B[43mpredict\u001B[49m\u001B[43m(\u001B[49m\u001B[43mX_test\u001B[49m\u001B[43m)\u001B[49m)\n\u001B[1;32m      4\u001B[0m plt\u001B[38;5;241m.\u001B[39mxlabel(\u001B[38;5;124m'\u001B[39m\u001B[38;5;124mTrue House Price\u001B[39m\u001B[38;5;124m'\u001B[39m)\n\u001B[1;32m      5\u001B[0m plt\u001B[38;5;241m.\u001B[39mylabel(\u001B[38;5;124m'\u001B[39m\u001B[38;5;124mPredicted House Price\u001B[39m\u001B[38;5;124m'\u001B[39m)\n",
      "File \u001B[0;32m/usr/local/lib/python3.9/site-packages/sklearn/ensemble/_gb.py:1798\u001B[0m, in \u001B[0;36mpredict\u001B[0;34m(self, X)\u001B[0m\n\u001B[1;32m   1787\u001B[0m \u001B[38;5;66;03m# TODO: remove \"ls\" in version 1.2\u001B[39;00m\n\u001B[1;32m   1788\u001B[0m _SUPPORTED_LOSS \u001B[38;5;241m=\u001B[39m (\n\u001B[1;32m   1789\u001B[0m     \u001B[38;5;124m\"\u001B[39m\u001B[38;5;124msquared_error\u001B[39m\u001B[38;5;124m\"\u001B[39m,\n\u001B[1;32m   1790\u001B[0m     \u001B[38;5;124m\"\u001B[39m\u001B[38;5;124mls\u001B[39m\u001B[38;5;124m\"\u001B[39m,\n\u001B[0;32m   (...)\u001B[0m\n\u001B[1;32m   1794\u001B[0m     \u001B[38;5;124m\"\u001B[39m\u001B[38;5;124mquantile\u001B[39m\u001B[38;5;124m\"\u001B[39m,\n\u001B[1;32m   1795\u001B[0m )\n\u001B[1;32m   1797\u001B[0m \u001B[38;5;28;01mdef\u001B[39;00m \u001B[38;5;21m__init__\u001B[39m(\n\u001B[0;32m-> 1798\u001B[0m     \u001B[38;5;28mself\u001B[39m,\n\u001B[1;32m   1799\u001B[0m     \u001B[38;5;241m*\u001B[39m,\n\u001B[1;32m   1800\u001B[0m     loss\u001B[38;5;241m=\u001B[39m\u001B[38;5;124m\"\u001B[39m\u001B[38;5;124msquared_error\u001B[39m\u001B[38;5;124m\"\u001B[39m,\n\u001B[1;32m   1801\u001B[0m     learning_rate\u001B[38;5;241m=\u001B[39m\u001B[38;5;241m0.1\u001B[39m,\n\u001B[1;32m   1802\u001B[0m     n_estimators\u001B[38;5;241m=\u001B[39m\u001B[38;5;241m100\u001B[39m,\n\u001B[1;32m   1803\u001B[0m     subsample\u001B[38;5;241m=\u001B[39m\u001B[38;5;241m1.0\u001B[39m,\n\u001B[1;32m   1804\u001B[0m     criterion\u001B[38;5;241m=\u001B[39m\u001B[38;5;124m\"\u001B[39m\u001B[38;5;124mfriedman_mse\u001B[39m\u001B[38;5;124m\"\u001B[39m,\n\u001B[1;32m   1805\u001B[0m     min_samples_split\u001B[38;5;241m=\u001B[39m\u001B[38;5;241m2\u001B[39m,\n\u001B[1;32m   1806\u001B[0m     min_samples_leaf\u001B[38;5;241m=\u001B[39m\u001B[38;5;241m1\u001B[39m,\n\u001B[1;32m   1807\u001B[0m     min_weight_fraction_leaf\u001B[38;5;241m=\u001B[39m\u001B[38;5;241m0.0\u001B[39m,\n\u001B[1;32m   1808\u001B[0m     max_depth\u001B[38;5;241m=\u001B[39m\u001B[38;5;241m3\u001B[39m,\n\u001B[1;32m   1809\u001B[0m     min_impurity_decrease\u001B[38;5;241m=\u001B[39m\u001B[38;5;241m0.0\u001B[39m,\n\u001B[1;32m   1810\u001B[0m     init\u001B[38;5;241m=\u001B[39m\u001B[38;5;28;01mNone\u001B[39;00m,\n\u001B[1;32m   1811\u001B[0m     random_state\u001B[38;5;241m=\u001B[39m\u001B[38;5;28;01mNone\u001B[39;00m,\n\u001B[1;32m   1812\u001B[0m     max_features\u001B[38;5;241m=\u001B[39m\u001B[38;5;28;01mNone\u001B[39;00m,\n\u001B[1;32m   1813\u001B[0m     alpha\u001B[38;5;241m=\u001B[39m\u001B[38;5;241m0.9\u001B[39m,\n\u001B[1;32m   1814\u001B[0m     verbose\u001B[38;5;241m=\u001B[39m\u001B[38;5;241m0\u001B[39m,\n\u001B[1;32m   1815\u001B[0m     max_leaf_nodes\u001B[38;5;241m=\u001B[39m\u001B[38;5;28;01mNone\u001B[39;00m,\n\u001B[1;32m   1816\u001B[0m     warm_start\u001B[38;5;241m=\u001B[39m\u001B[38;5;28;01mFalse\u001B[39;00m,\n\u001B[1;32m   1817\u001B[0m     validation_fraction\u001B[38;5;241m=\u001B[39m\u001B[38;5;241m0.1\u001B[39m,\n\u001B[1;32m   1818\u001B[0m     n_iter_no_change\u001B[38;5;241m=\u001B[39m\u001B[38;5;28;01mNone\u001B[39;00m,\n\u001B[1;32m   1819\u001B[0m     tol\u001B[38;5;241m=\u001B[39m\u001B[38;5;241m1e-4\u001B[39m,\n\u001B[1;32m   1820\u001B[0m     ccp_alpha\u001B[38;5;241m=\u001B[39m\u001B[38;5;241m0.0\u001B[39m,\n\u001B[1;32m   1821\u001B[0m ):\n\u001B[1;32m   1823\u001B[0m     \u001B[38;5;28msuper\u001B[39m()\u001B[38;5;241m.\u001B[39m\u001B[38;5;21m__init__\u001B[39m(\n\u001B[1;32m   1824\u001B[0m         loss\u001B[38;5;241m=\u001B[39mloss,\n\u001B[1;32m   1825\u001B[0m         learning_rate\u001B[38;5;241m=\u001B[39mlearning_rate,\n\u001B[0;32m   (...)\u001B[0m\n\u001B[1;32m   1844\u001B[0m         ccp_alpha\u001B[38;5;241m=\u001B[39mccp_alpha,\n\u001B[1;32m   1845\u001B[0m     )\n\u001B[1;32m   1847\u001B[0m \u001B[38;5;28;01mdef\u001B[39;00m \u001B[38;5;21m_validate_y\u001B[39m(\u001B[38;5;28mself\u001B[39m, y, sample_weight\u001B[38;5;241m=\u001B[39m\u001B[38;5;28;01mNone\u001B[39;00m):\n",
      "File \u001B[0;32m/usr/local/lib/python3.9/site-packages/sklearn/base.py:565\u001B[0m, in \u001B[0;36m_validate_data\u001B[0;34m(self, X, y, reset, validate_separately, **check_params)\u001B[0m\n\u001B[1;32m    563\u001B[0m \u001B[38;5;28;01mif\u001B[39;00m no_val_X \u001B[38;5;129;01mand\u001B[39;00m no_val_y:\n\u001B[1;32m    564\u001B[0m     \u001B[38;5;28;01mraise\u001B[39;00m \u001B[38;5;167;01mValueError\u001B[39;00m(\u001B[38;5;124m\"\u001B[39m\u001B[38;5;124mValidation should be done on X, y or both.\u001B[39m\u001B[38;5;124m\"\u001B[39m)\n\u001B[0;32m--> 565\u001B[0m \u001B[38;5;28;01melif\u001B[39;00m \u001B[38;5;129;01mnot\u001B[39;00m no_val_X \u001B[38;5;129;01mand\u001B[39;00m no_val_y:\n\u001B[1;32m    566\u001B[0m     X \u001B[38;5;241m=\u001B[39m check_array(X, \u001B[38;5;241m*\u001B[39m\u001B[38;5;241m*\u001B[39mcheck_params)\n\u001B[1;32m    567\u001B[0m     out \u001B[38;5;241m=\u001B[39m X\n",
      "File \u001B[0;32m/usr/local/lib/python3.9/site-packages/sklearn/utils/validation.py:879\u001B[0m, in \u001B[0;36mcheck_array\u001B[0;34m(array, accept_sparse, accept_large_sparse, dtype, order, copy, force_all_finite, ensure_2d, allow_nd, ensure_min_samples, ensure_min_features, estimator, input_name)\u001B[0m\n\u001B[1;32m    845\u001B[0m \u001B[38;5;28;01mdef\u001B[39;00m \u001B[38;5;21mcheck_X_y\u001B[39m(\n\u001B[1;32m    846\u001B[0m     X,\n\u001B[1;32m    847\u001B[0m     y,\n\u001B[0;32m   (...)\u001B[0m\n\u001B[1;32m    861\u001B[0m     estimator\u001B[38;5;241m=\u001B[39m\u001B[38;5;28;01mNone\u001B[39;00m,\n\u001B[1;32m    862\u001B[0m ):\n\u001B[1;32m    863\u001B[0m     \u001B[38;5;124;03m\"\"\"Input validation for standard estimators.\u001B[39;00m\n\u001B[1;32m    864\u001B[0m \n\u001B[1;32m    865\u001B[0m \u001B[38;5;124;03m    Checks X and y for consistent length, enforces X to be 2D and y 1D. By\u001B[39;00m\n\u001B[1;32m    866\u001B[0m \u001B[38;5;124;03m    default, X is checked to be non-empty and containing only finite values.\u001B[39;00m\n\u001B[1;32m    867\u001B[0m \u001B[38;5;124;03m    Standard input checks are also applied to y, such as checking that y\u001B[39;00m\n\u001B[1;32m    868\u001B[0m \u001B[38;5;124;03m    does not have np.nan or np.inf targets. For multi-label y, set\u001B[39;00m\n\u001B[1;32m    869\u001B[0m \u001B[38;5;124;03m    multi_output=True to allow 2D and sparse y. If the dtype of X is\u001B[39;00m\n\u001B[1;32m    870\u001B[0m \u001B[38;5;124;03m    object, attempt converting to float, raising on failure.\u001B[39;00m\n\u001B[1;32m    871\u001B[0m \n\u001B[1;32m    872\u001B[0m \u001B[38;5;124;03m    Parameters\u001B[39;00m\n\u001B[1;32m    873\u001B[0m \u001B[38;5;124;03m    ----------\u001B[39;00m\n\u001B[1;32m    874\u001B[0m \u001B[38;5;124;03m    X : {ndarray, list, sparse matrix}\u001B[39;00m\n\u001B[1;32m    875\u001B[0m \u001B[38;5;124;03m        Input data.\u001B[39;00m\n\u001B[1;32m    876\u001B[0m \n\u001B[1;32m    877\u001B[0m \u001B[38;5;124;03m    y : {ndarray, list, sparse matrix}\u001B[39;00m\n\u001B[1;32m    878\u001B[0m \u001B[38;5;124;03m        Labels.\u001B[39;00m\n\u001B[0;32m--> 879\u001B[0m \n\u001B[1;32m    880\u001B[0m \u001B[38;5;124;03m    accept_sparse : str, bool or list of str, default=False\u001B[39;00m\n\u001B[1;32m    881\u001B[0m \u001B[38;5;124;03m        String[s] representing allowed sparse matrix formats, such as 'csc',\u001B[39;00m\n\u001B[1;32m    882\u001B[0m \u001B[38;5;124;03m        'csr', etc. If the input is sparse but not in the allowed format,\u001B[39;00m\n\u001B[1;32m    883\u001B[0m \u001B[38;5;124;03m        it will be converted to the first listed format. True allows the input\u001B[39;00m\n\u001B[1;32m    884\u001B[0m \u001B[38;5;124;03m        to be any format. False means that a sparse matrix input will\u001B[39;00m\n\u001B[1;32m    885\u001B[0m \u001B[38;5;124;03m        raise an error.\u001B[39;00m\n\u001B[1;32m    886\u001B[0m \n\u001B[1;32m    887\u001B[0m \u001B[38;5;124;03m    accept_large_sparse : bool, default=True\u001B[39;00m\n\u001B[1;32m    888\u001B[0m \u001B[38;5;124;03m        If a CSR, CSC, COO or BSR sparse matrix is supplied and accepted by\u001B[39;00m\n\u001B[1;32m    889\u001B[0m \u001B[38;5;124;03m        accept_sparse, accept_large_sparse will cause it to be accepted only\u001B[39;00m\n\u001B[1;32m    890\u001B[0m \u001B[38;5;124;03m        if its indices are stored with a 32-bit dtype.\u001B[39;00m\n\u001B[1;32m    891\u001B[0m \n\u001B[1;32m    892\u001B[0m \u001B[38;5;124;03m        .. versionadded:: 0.20\u001B[39;00m\n\u001B[1;32m    893\u001B[0m \n\u001B[1;32m    894\u001B[0m \u001B[38;5;124;03m    dtype : 'numeric', type, list of type or None, default='numeric'\u001B[39;00m\n\u001B[1;32m    895\u001B[0m \u001B[38;5;124;03m        Data type of result. If None, the dtype of the input is preserved.\u001B[39;00m\n\u001B[1;32m    896\u001B[0m \u001B[38;5;124;03m        If \"numeric\", dtype is preserved unless array.dtype is object.\u001B[39;00m\n\u001B[1;32m    897\u001B[0m \u001B[38;5;124;03m        If dtype is a list of types, conversion on the first type is only\u001B[39;00m\n\u001B[1;32m    898\u001B[0m \u001B[38;5;124;03m        performed if the dtype of the input is not in the list.\u001B[39;00m\n\u001B[1;32m    899\u001B[0m \n\u001B[1;32m    900\u001B[0m \u001B[38;5;124;03m    order : {'F', 'C'}, default=None\u001B[39;00m\n\u001B[1;32m    901\u001B[0m \u001B[38;5;124;03m        Whether an array will be forced to be fortran or c-style.\u001B[39;00m\n\u001B[1;32m    902\u001B[0m \n\u001B[1;32m    903\u001B[0m \u001B[38;5;124;03m    copy : bool, default=False\u001B[39;00m\n\u001B[1;32m    904\u001B[0m \u001B[38;5;124;03m        Whether a forced copy will be triggered. If copy=False, a copy might\u001B[39;00m\n\u001B[1;32m    905\u001B[0m \u001B[38;5;124;03m        be triggered by a conversion.\u001B[39;00m\n\u001B[1;32m    906\u001B[0m \n\u001B[1;32m    907\u001B[0m \u001B[38;5;124;03m    force_all_finite : bool or 'allow-nan', default=True\u001B[39;00m\n\u001B[1;32m    908\u001B[0m \u001B[38;5;124;03m        Whether to raise an error on np.inf, np.nan, pd.NA in X. This parameter\u001B[39;00m\n\u001B[1;32m    909\u001B[0m \u001B[38;5;124;03m        does not influence whether y can have np.inf, np.nan, pd.NA values.\u001B[39;00m\n\u001B[1;32m    910\u001B[0m \u001B[38;5;124;03m        The possibilities are:\u001B[39;00m\n\u001B[1;32m    911\u001B[0m \n\u001B[1;32m    912\u001B[0m \u001B[38;5;124;03m        - True: Force all values of X to be finite.\u001B[39;00m\n\u001B[1;32m    913\u001B[0m \u001B[38;5;124;03m        - False: accepts np.inf, np.nan, pd.NA in X.\u001B[39;00m\n\u001B[1;32m    914\u001B[0m \u001B[38;5;124;03m        - 'allow-nan': accepts only np.nan or pd.NA values in X. Values cannot\u001B[39;00m\n\u001B[1;32m    915\u001B[0m \u001B[38;5;124;03m          be infinite.\u001B[39;00m\n\u001B[1;32m    916\u001B[0m \n\u001B[1;32m    917\u001B[0m \u001B[38;5;124;03m        .. versionadded:: 0.20\u001B[39;00m\n\u001B[1;32m    918\u001B[0m \u001B[38;5;124;03m           ``force_all_finite`` accepts the string ``'allow-nan'``.\u001B[39;00m\n\u001B[1;32m    919\u001B[0m \n\u001B[1;32m    920\u001B[0m \u001B[38;5;124;03m        .. versionchanged:: 0.23\u001B[39;00m\n\u001B[1;32m    921\u001B[0m \u001B[38;5;124;03m           Accepts `pd.NA` and converts it into `np.nan`\u001B[39;00m\n\u001B[1;32m    922\u001B[0m \n\u001B[1;32m    923\u001B[0m \u001B[38;5;124;03m    ensure_2d : bool, default=True\u001B[39;00m\n\u001B[1;32m    924\u001B[0m \u001B[38;5;124;03m        Whether to raise a value error if X is not 2D.\u001B[39;00m\n\u001B[1;32m    925\u001B[0m \n\u001B[1;32m    926\u001B[0m \u001B[38;5;124;03m    allow_nd : bool, default=False\u001B[39;00m\n\u001B[1;32m    927\u001B[0m \u001B[38;5;124;03m        Whether to allow X.ndim > 2.\u001B[39;00m\n\u001B[1;32m    928\u001B[0m \n\u001B[1;32m    929\u001B[0m \u001B[38;5;124;03m    multi_output : bool, default=False\u001B[39;00m\n\u001B[1;32m    930\u001B[0m \u001B[38;5;124;03m        Whether to allow 2D y (array or sparse matrix). If false, y will be\u001B[39;00m\n\u001B[1;32m    931\u001B[0m \u001B[38;5;124;03m        validated as a vector. y cannot have np.nan or np.inf values if\u001B[39;00m\n\u001B[1;32m    932\u001B[0m \u001B[38;5;124;03m        multi_output=True.\u001B[39;00m\n\u001B[1;32m    933\u001B[0m \n\u001B[1;32m    934\u001B[0m \u001B[38;5;124;03m    ensure_min_samples : int, default=1\u001B[39;00m\n\u001B[1;32m    935\u001B[0m \u001B[38;5;124;03m        Make sure that X has a minimum number of samples in its first\u001B[39;00m\n\u001B[1;32m    936\u001B[0m \u001B[38;5;124;03m        axis (rows for a 2D array).\u001B[39;00m\n\u001B[1;32m    937\u001B[0m \n\u001B[1;32m    938\u001B[0m \u001B[38;5;124;03m    ensure_min_features : int, default=1\u001B[39;00m\n\u001B[1;32m    939\u001B[0m \u001B[38;5;124;03m        Make sure that the 2D array has some minimum number of features\u001B[39;00m\n\u001B[1;32m    940\u001B[0m \u001B[38;5;124;03m        (columns). The default value of 1 rejects empty datasets.\u001B[39;00m\n\u001B[1;32m    941\u001B[0m \u001B[38;5;124;03m        This check is only enforced when X has effectively 2 dimensions or\u001B[39;00m\n\u001B[1;32m    942\u001B[0m \u001B[38;5;124;03m        is originally 1D and ``ensure_2d`` is True. Setting to 0 disables\u001B[39;00m\n\u001B[1;32m    943\u001B[0m \u001B[38;5;124;03m        this check.\u001B[39;00m\n\u001B[1;32m    944\u001B[0m \n\u001B[1;32m    945\u001B[0m \u001B[38;5;124;03m    y_numeric : bool, default=False\u001B[39;00m\n\u001B[1;32m    946\u001B[0m \u001B[38;5;124;03m        Whether to ensure that y has a numeric type. If dtype of y is object,\u001B[39;00m\n\u001B[1;32m    947\u001B[0m \u001B[38;5;124;03m        it is converted to float64. Should only be used for regression\u001B[39;00m\n\u001B[1;32m    948\u001B[0m \u001B[38;5;124;03m        algorithms.\u001B[39;00m\n\u001B[1;32m    949\u001B[0m \n\u001B[1;32m    950\u001B[0m \u001B[38;5;124;03m    estimator : str or estimator instance, default=None\u001B[39;00m\n\u001B[1;32m    951\u001B[0m \u001B[38;5;124;03m        If passed, include the name of the estimator in warning messages.\u001B[39;00m\n\u001B[1;32m    952\u001B[0m \n\u001B[1;32m    953\u001B[0m \u001B[38;5;124;03m    Returns\u001B[39;00m\n\u001B[1;32m    954\u001B[0m \u001B[38;5;124;03m    -------\u001B[39;00m\n\u001B[1;32m    955\u001B[0m \u001B[38;5;124;03m    X_converted : object\u001B[39;00m\n\u001B[1;32m    956\u001B[0m \u001B[38;5;124;03m        The converted and validated X.\u001B[39;00m\n\u001B[1;32m    957\u001B[0m \n\u001B[1;32m    958\u001B[0m \u001B[38;5;124;03m    y_converted : object\u001B[39;00m\n\u001B[1;32m    959\u001B[0m \u001B[38;5;124;03m        The converted and validated y.\u001B[39;00m\n\u001B[1;32m    960\u001B[0m \u001B[38;5;124;03m    \"\"\"\u001B[39;00m\n\u001B[1;32m    961\u001B[0m     \u001B[38;5;28;01mif\u001B[39;00m y \u001B[38;5;129;01mis\u001B[39;00m \u001B[38;5;28;01mNone\u001B[39;00m:\n\u001B[1;32m    962\u001B[0m         \u001B[38;5;28;01mraise\u001B[39;00m \u001B[38;5;167;01mValueError\u001B[39;00m(\u001B[38;5;124m\"\u001B[39m\u001B[38;5;124my cannot be None\u001B[39m\u001B[38;5;124m\"\u001B[39m)\n",
      "File \u001B[0;32m/usr/local/lib/python3.9/site-packages/sklearn/utils/_array_api.py:185\u001B[0m, in \u001B[0;36m_asarray_with_order\u001B[0;34m(array, dtype, order, copy, xp)\u001B[0m\n",
      "File \u001B[0;32m/usr/local/lib/python3.9/site-packages/numpy/core/_asarray.py:102\u001B[0m, in \u001B[0;36masarray\u001B[0;34m(a, dtype, order, like)\u001B[0m\n\u001B[1;32m     99\u001B[0m \u001B[38;5;28;01mif\u001B[39;00m like \u001B[38;5;129;01mis\u001B[39;00m \u001B[38;5;129;01mnot\u001B[39;00m \u001B[38;5;28;01mNone\u001B[39;00m:\n\u001B[1;32m    100\u001B[0m     \u001B[38;5;28;01mreturn\u001B[39;00m _asarray_with_like(a, dtype\u001B[38;5;241m=\u001B[39mdtype, order\u001B[38;5;241m=\u001B[39morder, like\u001B[38;5;241m=\u001B[39mlike)\n\u001B[0;32m--> 102\u001B[0m \u001B[38;5;28;01mreturn\u001B[39;00m \u001B[43marray\u001B[49m\u001B[43m(\u001B[49m\u001B[43ma\u001B[49m\u001B[43m,\u001B[49m\u001B[43m \u001B[49m\u001B[43mdtype\u001B[49m\u001B[43m,\u001B[49m\u001B[43m \u001B[49m\u001B[43mcopy\u001B[49m\u001B[38;5;241;43m=\u001B[39;49m\u001B[38;5;28;43;01mFalse\u001B[39;49;00m\u001B[43m,\u001B[49m\u001B[43m \u001B[49m\u001B[43morder\u001B[49m\u001B[38;5;241;43m=\u001B[39;49m\u001B[43morder\u001B[49m\u001B[43m)\u001B[49m\n",
      "File \u001B[0;32m/usr/local/lib/python3.9/site-packages/pandas/core/generic.py:1899\u001B[0m, in \u001B[0;36m__array__\u001B[0;34m(self, dtype)\u001B[0m\n\u001B[1;32m   1896\u001B[0m \u001B[38;5;28;01mdef\u001B[39;00m \u001B[38;5;21mkeys\u001B[39m(\u001B[38;5;28mself\u001B[39m):\n\u001B[1;32m   1897\u001B[0m     \u001B[38;5;124;03m\"\"\"\u001B[39;00m\n\u001B[1;32m   1898\u001B[0m \u001B[38;5;124;03m    Get the 'info axis' (see Indexing for more).\u001B[39;00m\n\u001B[0;32m-> 1899\u001B[0m \n\u001B[1;32m   1900\u001B[0m \u001B[38;5;124;03m    This is index for Series, columns for DataFrame.\u001B[39;00m\n\u001B[1;32m   1901\u001B[0m \n\u001B[1;32m   1902\u001B[0m \u001B[38;5;124;03m    Returns\u001B[39;00m\n\u001B[1;32m   1903\u001B[0m \u001B[38;5;124;03m    -------\u001B[39;00m\n\u001B[1;32m   1904\u001B[0m \u001B[38;5;124;03m    Index\u001B[39;00m\n\u001B[1;32m   1905\u001B[0m \u001B[38;5;124;03m        Info axis.\u001B[39;00m\n\u001B[1;32m   1906\u001B[0m \u001B[38;5;124;03m    \"\"\"\u001B[39;00m\n\u001B[1;32m   1907\u001B[0m     \u001B[38;5;28;01mreturn\u001B[39;00m \u001B[38;5;28mself\u001B[39m\u001B[38;5;241m.\u001B[39m_info_axis\n",
      "File \u001B[0;32m/usr/local/lib/python3.9/site-packages/numpy/core/_asarray.py:102\u001B[0m, in \u001B[0;36masarray\u001B[0;34m(a, dtype, order, like)\u001B[0m\n\u001B[1;32m     99\u001B[0m \u001B[38;5;28;01mif\u001B[39;00m like \u001B[38;5;129;01mis\u001B[39;00m \u001B[38;5;129;01mnot\u001B[39;00m \u001B[38;5;28;01mNone\u001B[39;00m:\n\u001B[1;32m    100\u001B[0m     \u001B[38;5;28;01mreturn\u001B[39;00m _asarray_with_like(a, dtype\u001B[38;5;241m=\u001B[39mdtype, order\u001B[38;5;241m=\u001B[39morder, like\u001B[38;5;241m=\u001B[39mlike)\n\u001B[0;32m--> 102\u001B[0m \u001B[38;5;28;01mreturn\u001B[39;00m \u001B[43marray\u001B[49m\u001B[43m(\u001B[49m\u001B[43ma\u001B[49m\u001B[43m,\u001B[49m\u001B[43m \u001B[49m\u001B[43mdtype\u001B[49m\u001B[43m,\u001B[49m\u001B[43m \u001B[49m\u001B[43mcopy\u001B[49m\u001B[38;5;241;43m=\u001B[39;49m\u001B[38;5;28;43;01mFalse\u001B[39;49;00m\u001B[43m,\u001B[49m\u001B[43m \u001B[49m\u001B[43morder\u001B[49m\u001B[38;5;241;43m=\u001B[39;49m\u001B[43morder\u001B[49m\u001B[43m)\u001B[49m\n",
      "\u001B[0;31mValueError\u001B[0m: could not convert string to float: 'RL'"
     ]
    }
   ],
   "source": [
    "# let's evaluate our predictions respect to the original price\n",
    "\n",
    "plt.scatter(y_test, tree_reg.predict(X_test))\n",
    "plt.xlabel('True House Price')\n",
    "plt.ylabel('Predicted House Price')\n",
    "plt.title('Evaluation of Lasso Predictions')"
   ]
  },
  {
   "cell_type": "markdown",
   "metadata": {},
   "source": [
    "## Feature Selection"
   ]
  },
  {
   "cell_type": "code",
   "execution_count": 35,
   "metadata": {},
   "outputs": [
    {
     "data": {
      "text/plain": "SelectFromModel(estimator=GradientBoostingRegressor(n_estimators=50,\n                                                    random_state=0))",
      "text/html": "<style>#sk-container-id-2 {color: black;background-color: white;}#sk-container-id-2 pre{padding: 0;}#sk-container-id-2 div.sk-toggleable {background-color: white;}#sk-container-id-2 label.sk-toggleable__label {cursor: pointer;display: block;width: 100%;margin-bottom: 0;padding: 0.3em;box-sizing: border-box;text-align: center;}#sk-container-id-2 label.sk-toggleable__label-arrow:before {content: \"▸\";float: left;margin-right: 0.25em;color: #696969;}#sk-container-id-2 label.sk-toggleable__label-arrow:hover:before {color: black;}#sk-container-id-2 div.sk-estimator:hover label.sk-toggleable__label-arrow:before {color: black;}#sk-container-id-2 div.sk-toggleable__content {max-height: 0;max-width: 0;overflow: hidden;text-align: left;background-color: #f0f8ff;}#sk-container-id-2 div.sk-toggleable__content pre {margin: 0.2em;color: black;border-radius: 0.25em;background-color: #f0f8ff;}#sk-container-id-2 input.sk-toggleable__control:checked~div.sk-toggleable__content {max-height: 200px;max-width: 100%;overflow: auto;}#sk-container-id-2 input.sk-toggleable__control:checked~label.sk-toggleable__label-arrow:before {content: \"▾\";}#sk-container-id-2 div.sk-estimator input.sk-toggleable__control:checked~label.sk-toggleable__label {background-color: #d4ebff;}#sk-container-id-2 div.sk-label input.sk-toggleable__control:checked~label.sk-toggleable__label {background-color: #d4ebff;}#sk-container-id-2 input.sk-hidden--visually {border: 0;clip: rect(1px 1px 1px 1px);clip: rect(1px, 1px, 1px, 1px);height: 1px;margin: -1px;overflow: hidden;padding: 0;position: absolute;width: 1px;}#sk-container-id-2 div.sk-estimator {font-family: monospace;background-color: #f0f8ff;border: 1px dotted black;border-radius: 0.25em;box-sizing: border-box;margin-bottom: 0.5em;}#sk-container-id-2 div.sk-estimator:hover {background-color: #d4ebff;}#sk-container-id-2 div.sk-parallel-item::after {content: \"\";width: 100%;border-bottom: 1px solid gray;flex-grow: 1;}#sk-container-id-2 div.sk-label:hover label.sk-toggleable__label {background-color: #d4ebff;}#sk-container-id-2 div.sk-serial::before {content: \"\";position: absolute;border-left: 1px solid gray;box-sizing: border-box;top: 0;bottom: 0;left: 50%;z-index: 0;}#sk-container-id-2 div.sk-serial {display: flex;flex-direction: column;align-items: center;background-color: white;padding-right: 0.2em;padding-left: 0.2em;position: relative;}#sk-container-id-2 div.sk-item {position: relative;z-index: 1;}#sk-container-id-2 div.sk-parallel {display: flex;align-items: stretch;justify-content: center;background-color: white;position: relative;}#sk-container-id-2 div.sk-item::before, #sk-container-id-2 div.sk-parallel-item::before {content: \"\";position: absolute;border-left: 1px solid gray;box-sizing: border-box;top: 0;bottom: 0;left: 50%;z-index: -1;}#sk-container-id-2 div.sk-parallel-item {display: flex;flex-direction: column;z-index: 1;position: relative;background-color: white;}#sk-container-id-2 div.sk-parallel-item:first-child::after {align-self: flex-end;width: 50%;}#sk-container-id-2 div.sk-parallel-item:last-child::after {align-self: flex-start;width: 50%;}#sk-container-id-2 div.sk-parallel-item:only-child::after {width: 0;}#sk-container-id-2 div.sk-dashed-wrapped {border: 1px dashed gray;margin: 0 0.4em 0.5em 0.4em;box-sizing: border-box;padding-bottom: 0.4em;background-color: white;}#sk-container-id-2 div.sk-label label {font-family: monospace;font-weight: bold;display: inline-block;line-height: 1.2em;}#sk-container-id-2 div.sk-label-container {text-align: center;}#sk-container-id-2 div.sk-container {/* jupyter's `normalize.less` sets `[hidden] { display: none; }` but bootstrap.min.css set `[hidden] { display: none !important; }` so we also need the `!important` here to be able to override the default hidden behavior on the sphinx rendered scikit-learn.org. See: https://github.com/scikit-learn/scikit-learn/issues/21755 */display: inline-block !important;position: relative;}#sk-container-id-2 div.sk-text-repr-fallback {display: none;}</style><div id=\"sk-container-id-2\" class=\"sk-top-container\"><div class=\"sk-text-repr-fallback\"><pre>SelectFromModel(estimator=GradientBoostingRegressor(n_estimators=50,\n                                                    random_state=0))</pre><b>In a Jupyter environment, please rerun this cell to show the HTML representation or trust the notebook. <br />On GitHub, the HTML representation is unable to render, please try loading this page with nbviewer.org.</b></div><div class=\"sk-container\" hidden><div class=\"sk-item sk-dashed-wrapped\"><div class=\"sk-label-container\"><div class=\"sk-label sk-toggleable\"><input class=\"sk-toggleable__control sk-hidden--visually\" id=\"sk-estimator-id-2\" type=\"checkbox\" ><label for=\"sk-estimator-id-2\" class=\"sk-toggleable__label sk-toggleable__label-arrow\">SelectFromModel</label><div class=\"sk-toggleable__content\"><pre>SelectFromModel(estimator=GradientBoostingRegressor(n_estimators=50,\n                                                    random_state=0))</pre></div></div></div><div class=\"sk-parallel\"><div class=\"sk-parallel-item\"><div class=\"sk-item\"><div class=\"sk-label-container\"><div class=\"sk-label sk-toggleable\"><input class=\"sk-toggleable__control sk-hidden--visually\" id=\"sk-estimator-id-3\" type=\"checkbox\" ><label for=\"sk-estimator-id-3\" class=\"sk-toggleable__label sk-toggleable__label-arrow\">estimator: GradientBoostingRegressor</label><div class=\"sk-toggleable__content\"><pre>GradientBoostingRegressor(n_estimators=50, random_state=0)</pre></div></div></div><div class=\"sk-serial\"><div class=\"sk-item\"><div class=\"sk-estimator sk-toggleable\"><input class=\"sk-toggleable__control sk-hidden--visually\" id=\"sk-estimator-id-4\" type=\"checkbox\" ><label for=\"sk-estimator-id-4\" class=\"sk-toggleable__label sk-toggleable__label-arrow\">GradientBoostingRegressor</label><div class=\"sk-toggleable__content\"><pre>GradientBoostingRegressor(n_estimators=50, random_state=0)</pre></div></div></div></div></div></div></div></div></div></div>"
     },
     "execution_count": 35,
     "metadata": {},
     "output_type": "execute_result"
    }
   ],
   "source": [
    "# here I will do the model fitting and feature selection\n",
    "# altogether in one line of code\n",
    "\n",
    "# To select features we use Scikit-learn's SelectFromModel\n",
    "# specifying the the Gradient Boosting Regressor model\n",
    "\n",
    "# and we train the SelecgFromModel with the train set.\n",
    "\n",
    "# remember to set the seed, the random state in this function\n",
    "sel_ = SelectFromModel(GradientBoostingRegressor(\n",
    "    random_state=0, n_estimators=50))\n",
    "sel_.fit(X_train, y_train)"
   ]
  },
  {
   "cell_type": "code",
   "execution_count": 36,
   "metadata": {},
   "outputs": [
    {
     "name": "stdout",
     "output_type": "stream",
     "text": [
      "total features: 80\n",
      "selected features: 9\n"
     ]
    }
   ],
   "source": [
    "# let's print the number of total and selected features\n",
    "\n",
    "# this is how we can make a list of the selected features\n",
    "selected_feat = X_train.columns[(sel_.get_support())]\n",
    "\n",
    "# let's print some stats\n",
    "print('total features: {}'.format((X_train.shape[1])))\n",
    "print('selected features: {}'.format(len(selected_feat)))"
   ]
  },
  {
   "cell_type": "code",
   "execution_count": 37,
   "metadata": {},
   "outputs": [
    {
     "data": {
      "text/plain": "Index(['LotArea', 'OverallQual', 'YearRemodAdd', 'BsmtFinSF1', 'TotalBsmtSF',\n       '1stFlrSF', '2ndFlrSF', 'GrLivArea', 'GarageCars'],\n      dtype='object')"
     },
     "execution_count": 37,
     "metadata": {},
     "output_type": "execute_result"
    }
   ],
   "source": [
    "selected_feat"
   ]
  },
  {
   "cell_type": "markdown",
   "metadata": {},
   "source": [
    "## Re-build model with selected features"
   ]
  },
  {
   "cell_type": "code",
   "execution_count": 38,
   "metadata": {},
   "outputs": [
    {
     "data": {
      "text/plain": "GradientBoostingRegressor(n_estimators=50, random_state=0)",
      "text/html": "<style>#sk-container-id-3 {color: black;background-color: white;}#sk-container-id-3 pre{padding: 0;}#sk-container-id-3 div.sk-toggleable {background-color: white;}#sk-container-id-3 label.sk-toggleable__label {cursor: pointer;display: block;width: 100%;margin-bottom: 0;padding: 0.3em;box-sizing: border-box;text-align: center;}#sk-container-id-3 label.sk-toggleable__label-arrow:before {content: \"▸\";float: left;margin-right: 0.25em;color: #696969;}#sk-container-id-3 label.sk-toggleable__label-arrow:hover:before {color: black;}#sk-container-id-3 div.sk-estimator:hover label.sk-toggleable__label-arrow:before {color: black;}#sk-container-id-3 div.sk-toggleable__content {max-height: 0;max-width: 0;overflow: hidden;text-align: left;background-color: #f0f8ff;}#sk-container-id-3 div.sk-toggleable__content pre {margin: 0.2em;color: black;border-radius: 0.25em;background-color: #f0f8ff;}#sk-container-id-3 input.sk-toggleable__control:checked~div.sk-toggleable__content {max-height: 200px;max-width: 100%;overflow: auto;}#sk-container-id-3 input.sk-toggleable__control:checked~label.sk-toggleable__label-arrow:before {content: \"▾\";}#sk-container-id-3 div.sk-estimator input.sk-toggleable__control:checked~label.sk-toggleable__label {background-color: #d4ebff;}#sk-container-id-3 div.sk-label input.sk-toggleable__control:checked~label.sk-toggleable__label {background-color: #d4ebff;}#sk-container-id-3 input.sk-hidden--visually {border: 0;clip: rect(1px 1px 1px 1px);clip: rect(1px, 1px, 1px, 1px);height: 1px;margin: -1px;overflow: hidden;padding: 0;position: absolute;width: 1px;}#sk-container-id-3 div.sk-estimator {font-family: monospace;background-color: #f0f8ff;border: 1px dotted black;border-radius: 0.25em;box-sizing: border-box;margin-bottom: 0.5em;}#sk-container-id-3 div.sk-estimator:hover {background-color: #d4ebff;}#sk-container-id-3 div.sk-parallel-item::after {content: \"\";width: 100%;border-bottom: 1px solid gray;flex-grow: 1;}#sk-container-id-3 div.sk-label:hover label.sk-toggleable__label {background-color: #d4ebff;}#sk-container-id-3 div.sk-serial::before {content: \"\";position: absolute;border-left: 1px solid gray;box-sizing: border-box;top: 0;bottom: 0;left: 50%;z-index: 0;}#sk-container-id-3 div.sk-serial {display: flex;flex-direction: column;align-items: center;background-color: white;padding-right: 0.2em;padding-left: 0.2em;position: relative;}#sk-container-id-3 div.sk-item {position: relative;z-index: 1;}#sk-container-id-3 div.sk-parallel {display: flex;align-items: stretch;justify-content: center;background-color: white;position: relative;}#sk-container-id-3 div.sk-item::before, #sk-container-id-3 div.sk-parallel-item::before {content: \"\";position: absolute;border-left: 1px solid gray;box-sizing: border-box;top: 0;bottom: 0;left: 50%;z-index: -1;}#sk-container-id-3 div.sk-parallel-item {display: flex;flex-direction: column;z-index: 1;position: relative;background-color: white;}#sk-container-id-3 div.sk-parallel-item:first-child::after {align-self: flex-end;width: 50%;}#sk-container-id-3 div.sk-parallel-item:last-child::after {align-self: flex-start;width: 50%;}#sk-container-id-3 div.sk-parallel-item:only-child::after {width: 0;}#sk-container-id-3 div.sk-dashed-wrapped {border: 1px dashed gray;margin: 0 0.4em 0.5em 0.4em;box-sizing: border-box;padding-bottom: 0.4em;background-color: white;}#sk-container-id-3 div.sk-label label {font-family: monospace;font-weight: bold;display: inline-block;line-height: 1.2em;}#sk-container-id-3 div.sk-label-container {text-align: center;}#sk-container-id-3 div.sk-container {/* jupyter's `normalize.less` sets `[hidden] { display: none; }` but bootstrap.min.css set `[hidden] { display: none !important; }` so we also need the `!important` here to be able to override the default hidden behavior on the sphinx rendered scikit-learn.org. See: https://github.com/scikit-learn/scikit-learn/issues/21755 */display: inline-block !important;position: relative;}#sk-container-id-3 div.sk-text-repr-fallback {display: none;}</style><div id=\"sk-container-id-3\" class=\"sk-top-container\"><div class=\"sk-text-repr-fallback\"><pre>GradientBoostingRegressor(n_estimators=50, random_state=0)</pre><b>In a Jupyter environment, please rerun this cell to show the HTML representation or trust the notebook. <br />On GitHub, the HTML representation is unable to render, please try loading this page with nbviewer.org.</b></div><div class=\"sk-container\" hidden><div class=\"sk-item\"><div class=\"sk-estimator sk-toggleable\"><input class=\"sk-toggleable__control sk-hidden--visually\" id=\"sk-estimator-id-5\" type=\"checkbox\" checked><label for=\"sk-estimator-id-5\" class=\"sk-toggleable__label sk-toggleable__label-arrow\">GradientBoostingRegressor</label><div class=\"sk-toggleable__content\"><pre>GradientBoostingRegressor(n_estimators=50, random_state=0)</pre></div></div></div></div></div>"
     },
     "execution_count": 38,
     "metadata": {},
     "output_type": "execute_result"
    }
   ],
   "source": [
    "tree_reg = GradientBoostingRegressor(random_state=0, n_estimators=50)\n",
    "tree_reg.fit(X_train[selected_feat], y_train)"
   ]
  },
  {
   "cell_type": "code",
   "execution_count": 28,
   "metadata": {},
   "outputs": [
    {
     "name": "stdout",
     "output_type": "stream",
     "text": [
      "linear train mse: 418644251.8706319\n",
      "linear train rmse: 20460.797928493204\n",
      "\n",
      "linear test mse: 633153768.8943316\n",
      "linear test rmse: 25162.54694768261\n"
     ]
    }
   ],
   "source": [
    "pred = tree_reg.predict(X_train[selected_feat])\n",
    "print('linear train mse: {}'.format(mean_squared_error(y_train, pred)))\n",
    "print('linear train rmse: {}'.format(sqrt(mean_squared_error(y_train, pred))))\n",
    "print()\n",
    "pred = tree_reg.predict(X_test[selected_feat])\n",
    "print('linear test mse: {}'.format(mean_squared_error(y_test, pred)))\n",
    "print('linear test rmse: {}'.format(sqrt(mean_squared_error(y_test, pred))))"
   ]
  },
  {
   "cell_type": "code",
   "execution_count": 29,
   "metadata": {},
   "outputs": [
    {
     "data": {
      "text/html": [
       "<div>\n",
       "<style scoped>\n",
       "    .dataframe tbody tr th:only-of-type {\n",
       "        vertical-align: middle;\n",
       "    }\n",
       "\n",
       "    .dataframe tbody tr th {\n",
       "        vertical-align: top;\n",
       "    }\n",
       "\n",
       "    .dataframe thead th {\n",
       "        text-align: right;\n",
       "    }\n",
       "</style>\n",
       "<table border=\"1\" class=\"dataframe\">\n",
       "  <thead>\n",
       "    <tr style=\"text-align: right;\">\n",
       "      <th></th>\n",
       "      <th>LotArea</th>\n",
       "      <th>OverallQual</th>\n",
       "      <th>YearRemodAdd</th>\n",
       "      <th>BsmtQual</th>\n",
       "      <th>BsmtFinSF1</th>\n",
       "      <th>TotalBsmtSF</th>\n",
       "      <th>1stFlrSF</th>\n",
       "      <th>2ndFlrSF</th>\n",
       "      <th>GrLivArea</th>\n",
       "      <th>GarageCars</th>\n",
       "    </tr>\n",
       "  </thead>\n",
       "  <tbody>\n",
       "    <tr>\n",
       "      <th>0</th>\n",
       "      <td>8450</td>\n",
       "      <td>7</td>\n",
       "      <td>2003</td>\n",
       "      <td>Gd</td>\n",
       "      <td>706</td>\n",
       "      <td>856</td>\n",
       "      <td>856</td>\n",
       "      <td>854</td>\n",
       "      <td>1710</td>\n",
       "      <td>2</td>\n",
       "    </tr>\n",
       "    <tr>\n",
       "      <th>1</th>\n",
       "      <td>9600</td>\n",
       "      <td>6</td>\n",
       "      <td>1976</td>\n",
       "      <td>Gd</td>\n",
       "      <td>978</td>\n",
       "      <td>1262</td>\n",
       "      <td>1262</td>\n",
       "      <td>0</td>\n",
       "      <td>1262</td>\n",
       "      <td>2</td>\n",
       "    </tr>\n",
       "    <tr>\n",
       "      <th>2</th>\n",
       "      <td>11250</td>\n",
       "      <td>7</td>\n",
       "      <td>2002</td>\n",
       "      <td>Gd</td>\n",
       "      <td>486</td>\n",
       "      <td>920</td>\n",
       "      <td>920</td>\n",
       "      <td>866</td>\n",
       "      <td>1786</td>\n",
       "      <td>2</td>\n",
       "    </tr>\n",
       "    <tr>\n",
       "      <th>3</th>\n",
       "      <td>9550</td>\n",
       "      <td>7</td>\n",
       "      <td>1970</td>\n",
       "      <td>TA</td>\n",
       "      <td>216</td>\n",
       "      <td>756</td>\n",
       "      <td>961</td>\n",
       "      <td>756</td>\n",
       "      <td>1717</td>\n",
       "      <td>3</td>\n",
       "    </tr>\n",
       "    <tr>\n",
       "      <th>4</th>\n",
       "      <td>14260</td>\n",
       "      <td>8</td>\n",
       "      <td>2000</td>\n",
       "      <td>Gd</td>\n",
       "      <td>655</td>\n",
       "      <td>1145</td>\n",
       "      <td>1145</td>\n",
       "      <td>1053</td>\n",
       "      <td>2198</td>\n",
       "      <td>3</td>\n",
       "    </tr>\n",
       "  </tbody>\n",
       "</table>\n",
       "</div>"
      ],
      "text/plain": [
       "   LotArea  OverallQual  YearRemodAdd BsmtQual  BsmtFinSF1  TotalBsmtSF  \\\n",
       "0     8450            7          2003       Gd         706          856   \n",
       "1     9600            6          1976       Gd         978         1262   \n",
       "2    11250            7          2002       Gd         486          920   \n",
       "3     9550            7          1970       TA         216          756   \n",
       "4    14260            8          2000       Gd         655         1145   \n",
       "\n",
       "   1stFlrSF  2ndFlrSF  GrLivArea  GarageCars  \n",
       "0       856       854       1710           2  \n",
       "1      1262         0       1262           2  \n",
       "2       920       866       1786           2  \n",
       "3       961       756       1717           3  \n",
       "4      1145      1053       2198           3  "
      ]
     },
     "execution_count": 29,
     "metadata": {},
     "output_type": "execute_result"
    }
   ],
   "source": [
    "data[selected_feat].head()"
   ]
  },
  {
   "cell_type": "code",
   "execution_count": 30,
   "metadata": {},
   "outputs": [],
   "source": [
    "# make a list of the categorical variables that contain missing values\n",
    "\n",
    "vars_dates = ['YearRemodAdd']\n",
    "vars_cat = ['BsmtQual']\n",
    "vars_num = ['LotArea', 'OverallQual', 'YearRemodAdd', 'BsmtQual', 'BsmtFinSF1',\n",
    "            'TotalBsmtSF', '1stFlrSF', '2ndFlrSF', 'GrLivArea', 'GarageCars']"
   ]
  },
  {
   "cell_type": "code",
   "execution_count": null,
   "metadata": {},
   "outputs": [],
   "source": []
  }
 ],
 "metadata": {
  "kernelspec": {
   "display_name": "Python 3",
   "language": "python",
   "name": "python3"
  },
  "language_info": {
   "codemirror_mode": {
    "name": "ipython",
    "version": 3
   },
   "file_extension": ".py",
   "mimetype": "text/x-python",
   "name": "python",
   "nbconvert_exporter": "python",
   "pygments_lexer": "ipython3",
   "version": "3.7.6"
  },
  "toc": {
   "nav_menu": {},
   "number_sections": true,
   "sideBar": true,
   "skip_h1_title": false,
   "toc_cell": false,
   "toc_position": {
    "height": "583px",
    "left": "0px",
    "right": "1324px",
    "top": "107px",
    "width": "212px"
   },
   "toc_section_display": "block",
   "toc_window_display": true
  }
 },
 "nbformat": 4,
 "nbformat_minor": 2
}
